{
  "nbformat": 4,
  "nbformat_minor": 0,
  "metadata": {
    "colab": {
      "provenance": []
    },
    "kernelspec": {
      "name": "python3",
      "display_name": "Python 3"
    },
    "language_info": {
      "name": "python"
    }
  },
  "cells": [
    {
      "cell_type": "markdown",
      "source": [
        "---\n",
        "\n",
        "# NumPy\n",
        "\n",
        "---"
      ],
      "metadata": {
        "id": "qbH6QbOsBf4n"
      }
    },
    {
      "cell_type": "markdown",
      "source": [
        "**Q. Why use NumPy?**\n",
        "\n",
        "A. NumPy is faster than lists\n",
        "\n",
        "**Q. Why are Numpy arrays faster than regular Python lists?**\n",
        "\n",
        "A.\n",
        "\n",
        "i. Numpy does not perform type checking while iterating through objects.\n",
        "\n",
        "ii. Numpy uses fixed types.\n",
        "\n",
        "iii. Numpy uses contiguous memory\n",
        "\n",
        "\n",
        "##Applications of NumPy\n",
        "\n",
        "1. Mathematics (MATLAB Replacement)\n",
        "\n",
        "2. Plotting (Matplotlib)\n",
        "\n",
        "3. Backend (Pandas, Connect 4, Digital Photography)\n",
        "\n",
        "4. Machine Learning"
      ],
      "metadata": {
        "id": "TSHqxfwJBbU3"
      }
    },
    {
      "cell_type": "markdown",
      "source": [
        "### Load in NumPy (remember to pip install numpy first)"
      ],
      "metadata": {
        "id": "2MCERCTWBrJl"
      }
    },
    {
      "cell_type": "code",
      "source": [
        "import numpy as np"
      ],
      "metadata": {
        "id": "sGUu61XMC4e-"
      },
      "execution_count": null,
      "outputs": []
    },
    {
      "cell_type": "markdown",
      "metadata": {
        "id": "Nhc9JXqeCjAI"
      },
      "source": [
        "### The Basics"
      ]
    },
    {
      "cell_type": "code",
      "execution_count": null,
      "metadata": {
        "id": "io0Z2RitCjAJ",
        "outputId": "b26863f8-380f-47bf-aaba-01fc67660e2c",
        "colab": {
          "base_uri": "https://localhost:8080/"
        }
      },
      "outputs": [
        {
          "output_type": "stream",
          "name": "stdout",
          "text": [
            "[1 2 3 4]\n"
          ]
        }
      ],
      "source": [
        "a = np.array([1,2,3, 4], dtype='int32')\n",
        "print(a)"
      ]
    },
    {
      "cell_type": "code",
      "source": [
        "a[1:3]"
      ],
      "metadata": {
        "colab": {
          "base_uri": "https://localhost:8080/"
        },
        "id": "jMOrML35mD23",
        "outputId": "4bb5b00c-a458-4a7b-9a8e-b9dd780ec26d"
      },
      "execution_count": null,
      "outputs": [
        {
          "output_type": "execute_result",
          "data": {
            "text/plain": [
              "array([2, 3], dtype=int32)"
            ]
          },
          "metadata": {},
          "execution_count": 69
        }
      ]
    },
    {
      "cell_type": "code",
      "source": [
        "a[1:-1]"
      ],
      "metadata": {
        "colab": {
          "base_uri": "https://localhost:8080/"
        },
        "id": "NkP9K9kkmIQd",
        "outputId": "f6ee72fb-944f-414f-92a1-b3793ae4f4b6"
      },
      "execution_count": null,
      "outputs": [
        {
          "output_type": "execute_result",
          "data": {
            "text/plain": [
              "array([2, 3], dtype=int32)"
            ]
          },
          "metadata": {},
          "execution_count": 70
        }
      ]
    },
    {
      "cell_type": "code",
      "source": [
        "a[::2]"
      ],
      "metadata": {
        "colab": {
          "base_uri": "https://localhost:8080/"
        },
        "id": "5ntTJSVAmNo9",
        "outputId": "37bd0d5d-b8a7-4697-ed21-f3f0864f312d"
      },
      "execution_count": null,
      "outputs": [
        {
          "output_type": "execute_result",
          "data": {
            "text/plain": [
              "array([1, 3], dtype=int32)"
            ]
          },
          "metadata": {},
          "execution_count": 71
        }
      ]
    },
    {
      "cell_type": "code",
      "execution_count": null,
      "metadata": {
        "id": "-CUEs2OSCjAK",
        "outputId": "7ea85cf7-ea0f-4dee-b7d9-1da89bed90e8",
        "colab": {
          "base_uri": "https://localhost:8080/"
        }
      },
      "outputs": [
        {
          "output_type": "stream",
          "name": "stdout",
          "text": [
            "[[9. 8. 7.]\n",
            " [6. 5. 4.]]\n"
          ]
        }
      ],
      "source": [
        "b = np.array([[9.0,8.0,7.0],[6.0,5.0,4.0]])\n",
        "print(b)"
      ]
    },
    {
      "cell_type": "code",
      "source": [
        "b[0], b[1], b[-1]"
      ],
      "metadata": {
        "colab": {
          "base_uri": "https://localhost:8080/"
        },
        "id": "f6G0TZnmmS-s",
        "outputId": "8296ce1b-17c5-46fc-db04-407b1f0d62bb"
      },
      "execution_count": null,
      "outputs": [
        {
          "output_type": "execute_result",
          "data": {
            "text/plain": [
              "(array([9., 8., 7.]), array([6., 5., 4.]), array([6., 5., 4.]))"
            ]
          },
          "metadata": {},
          "execution_count": 75
        }
      ]
    },
    {
      "cell_type": "code",
      "source": [
        "b[[0,-1]]"
      ],
      "metadata": {
        "colab": {
          "base_uri": "https://localhost:8080/"
        },
        "id": "_zQI1flAmZj7",
        "outputId": "0d94b9cf-af69-40bd-e57c-b0c6c96a5345"
      },
      "execution_count": null,
      "outputs": [
        {
          "output_type": "execute_result",
          "data": {
            "text/plain": [
              "array([[9., 8., 7.],\n",
              "       [6., 5., 4.]])"
            ]
          },
          "metadata": {},
          "execution_count": 77
        }
      ]
    },
    {
      "cell_type": "code",
      "execution_count": null,
      "metadata": {
        "id": "OixI1j1_CjAK",
        "outputId": "d84a6fb8-fd52-4bcc-e25e-0118a5cfb26f"
      },
      "outputs": [
        {
          "data": {
            "text/plain": [
              "1"
            ]
          },
          "execution_count": 16,
          "metadata": {},
          "output_type": "execute_result"
        }
      ],
      "source": [
        "# Get Dimension\n",
        "a.ndim"
      ]
    },
    {
      "cell_type": "code",
      "execution_count": null,
      "metadata": {
        "id": "bGfus64ACjAL",
        "outputId": "d4762bd8-ad6b-4c3b-fb37-3f2e1ddc24b5"
      },
      "outputs": [
        {
          "data": {
            "text/plain": [
              "(2, 3)"
            ]
          },
          "execution_count": 18,
          "metadata": {},
          "output_type": "execute_result"
        }
      ],
      "source": [
        "# Get Shape\n",
        "b.shape"
      ]
    },
    {
      "cell_type": "code",
      "execution_count": null,
      "metadata": {
        "id": "NAy61RsoCjAL",
        "outputId": "9354aba2-c9f4-4c1d-e482-8cf703505a66"
      },
      "outputs": [
        {
          "data": {
            "text/plain": [
              "dtype('int32')"
            ]
          },
          "execution_count": 32,
          "metadata": {},
          "output_type": "execute_result"
        }
      ],
      "source": [
        "# Get Type\n",
        "a.dtype"
      ]
    },
    {
      "cell_type": "code",
      "execution_count": null,
      "metadata": {
        "id": "pQSN8TnrCjAL",
        "outputId": "524e2c1f-49f3-4c46-c21d-b378ecebc9a9"
      },
      "outputs": [
        {
          "data": {
            "text/plain": [
              "4"
            ]
          },
          "execution_count": 31,
          "metadata": {},
          "output_type": "execute_result"
        }
      ],
      "source": [
        "# Get Size\n",
        "a.itemsize"
      ]
    },
    {
      "cell_type": "code",
      "execution_count": null,
      "metadata": {
        "id": "hr7GrT-ECjAM",
        "outputId": "db380611-eca1-43d0-eac9-aaf02ffa8096"
      },
      "outputs": [
        {
          "data": {
            "text/plain": [
              "12"
            ]
          },
          "execution_count": 29,
          "metadata": {},
          "output_type": "execute_result"
        }
      ],
      "source": [
        "# Get total size\n",
        "a.nbytes"
      ]
    },
    {
      "cell_type": "code",
      "execution_count": null,
      "metadata": {
        "id": "6Akfb8HQCjAM",
        "outputId": "cbba5e75-0d98-4b0c-8499-2c60af66e1ad"
      },
      "outputs": [
        {
          "data": {
            "text/plain": [
              "3"
            ]
          },
          "execution_count": 35,
          "metadata": {},
          "output_type": "execute_result"
        }
      ],
      "source": [
        "# Get number of elements\n",
        "a.size"
      ]
    },
    {
      "cell_type": "markdown",
      "metadata": {
        "id": "OjoRXbKOCjAM"
      },
      "source": [
        "### Accessing/Changing specific elements, rows, columns, etc"
      ]
    },
    {
      "cell_type": "code",
      "execution_count": null,
      "metadata": {
        "id": "JFMAjASsCjAM",
        "outputId": "91a1566f-899f-4e53-c85b-d94df7201d51"
      },
      "outputs": [
        {
          "name": "stdout",
          "output_type": "stream",
          "text": [
            "[[ 1  2  3  4  5  6  7]\n",
            " [ 8  9 10 11 12 13 14]]\n"
          ]
        }
      ],
      "source": [
        "a = np.array([[1,2,3,4,5,6,7],[8,9,10,11,12,13,14]])\n",
        "print(a)"
      ]
    },
    {
      "cell_type": "code",
      "execution_count": null,
      "metadata": {
        "id": "VWURFK72CjAN",
        "outputId": "7a561eb2-b435-440e-d65d-6cdc37e61e25"
      },
      "outputs": [
        {
          "data": {
            "text/plain": [
              "13"
            ]
          },
          "execution_count": 14,
          "metadata": {},
          "output_type": "execute_result"
        }
      ],
      "source": [
        "# Get a specific element [r, c]\n",
        "a[1, 5]"
      ]
    },
    {
      "cell_type": "code",
      "execution_count": null,
      "metadata": {
        "id": "6MfxiR0HCjAN",
        "outputId": "e3551383-6b1e-40b2-965b-3a1b26179562"
      },
      "outputs": [
        {
          "data": {
            "text/plain": [
              "array([1, 2, 3, 4, 5, 6, 7])"
            ]
          },
          "execution_count": 15,
          "metadata": {},
          "output_type": "execute_result"
        }
      ],
      "source": [
        "# Get a specific row\n",
        "a[0, :]"
      ]
    },
    {
      "cell_type": "code",
      "execution_count": null,
      "metadata": {
        "id": "GacKX9pSCjAN",
        "outputId": "71b9212e-1456-4367-9d61-60aef55942ec"
      },
      "outputs": [
        {
          "data": {
            "text/plain": [
              "array([ 3, 10])"
            ]
          },
          "execution_count": 16,
          "metadata": {},
          "output_type": "execute_result"
        }
      ],
      "source": [
        "# Get a specific column\n",
        "a[:, 2]"
      ]
    },
    {
      "cell_type": "code",
      "execution_count": null,
      "metadata": {
        "id": "DGtSd60BCjAN",
        "outputId": "d3168f61-91b1-4100-b6df-13fcfe320526"
      },
      "outputs": [
        {
          "data": {
            "text/plain": [
              "array([2, 4, 6])"
            ]
          },
          "execution_count": 20,
          "metadata": {},
          "output_type": "execute_result"
        }
      ],
      "source": [
        "# Getting a little more fancy [startindex:endindex:stepsize]\n",
        "a[0, 1:-1:2]"
      ]
    },
    {
      "cell_type": "code",
      "execution_count": null,
      "metadata": {
        "id": "awil-HiJCjAO",
        "outputId": "5eec456a-0df8-453f-a7ba-60e9642bcdf2"
      },
      "outputs": [
        {
          "name": "stdout",
          "output_type": "stream",
          "text": [
            "[[ 1  2  5  4  5  6  7]\n",
            " [ 8  9  5 11 12 20 14]]\n",
            "[[ 1  2  1  4  5  6  7]\n",
            " [ 8  9  2 11 12 20 14]]\n"
          ]
        }
      ],
      "source": [
        "a[1,5] = 20\n",
        "\n",
        "a[:,2] = [1,2]\n",
        "print(a)"
      ]
    },
    {
      "cell_type": "markdown",
      "metadata": {
        "id": "O2Mc8bm4CjAO"
      },
      "source": [
        "*3-d example"
      ]
    },
    {
      "cell_type": "code",
      "execution_count": null,
      "metadata": {
        "id": "tJirZCoDCjAO",
        "outputId": "923f99a0-93a8-4940-8a15-0e1cb2d94b01"
      },
      "outputs": [
        {
          "name": "stdout",
          "output_type": "stream",
          "text": [
            "[[[1 2]\n",
            "  [3 4]]\n",
            "\n",
            " [[5 6]\n",
            "  [7 8]]]\n"
          ]
        }
      ],
      "source": [
        "b = np.array([[[1,2],[3,4]],[[5,6],[7,8]]])\n",
        "print(b)"
      ]
    },
    {
      "cell_type": "code",
      "execution_count": null,
      "metadata": {
        "id": "UpzW8t51CjAO",
        "outputId": "54939b85-451c-4759-9241-2e3482966471"
      },
      "outputs": [
        {
          "data": {
            "text/plain": [
              "4"
            ]
          },
          "execution_count": 30,
          "metadata": {},
          "output_type": "execute_result"
        }
      ],
      "source": [
        "# Get specific element (work outside in)\n",
        "b[0,1,1]"
      ]
    },
    {
      "cell_type": "code",
      "execution_count": null,
      "metadata": {
        "id": "UJRZsufwCjAO",
        "outputId": "d6e5354f-e201-4228-d1da-40ddb339d89f"
      },
      "outputs": [
        {
          "ename": "ValueError",
          "evalue": "setting an array element with a sequence.",
          "output_type": "error",
          "traceback": [
            "\u001b[1;31m---------------------------------------------------------------------------\u001b[0m",
            "\u001b[1;31mValueError\u001b[0m                                Traceback (most recent call last)",
            "\u001b[1;32m<ipython-input-34-db1aebb5daad>\u001b[0m in \u001b[0;36m<module>\u001b[1;34m()\u001b[0m\n\u001b[0;32m      1\u001b[0m \u001b[1;31m# replace\u001b[0m\u001b[1;33m\u001b[0m\u001b[1;33m\u001b[0m\u001b[0m\n\u001b[1;32m----> 2\u001b[1;33m \u001b[0mb\u001b[0m\u001b[1;33m[\u001b[0m\u001b[1;33m:\u001b[0m\u001b[1;33m,\u001b[0m\u001b[1;36m1\u001b[0m\u001b[1;33m,\u001b[0m\u001b[1;33m:\u001b[0m\u001b[1;33m]\u001b[0m \u001b[1;33m=\u001b[0m \u001b[1;33m[\u001b[0m\u001b[1;33m[\u001b[0m\u001b[1;36m9\u001b[0m\u001b[1;33m,\u001b[0m\u001b[1;36m9\u001b[0m\u001b[1;33m,\u001b[0m\u001b[1;36m9\u001b[0m\u001b[1;33m]\u001b[0m\u001b[1;33m,\u001b[0m\u001b[1;33m[\u001b[0m\u001b[1;36m8\u001b[0m\u001b[1;33m,\u001b[0m\u001b[1;36m8\u001b[0m\u001b[1;33m]\u001b[0m\u001b[1;33m]\u001b[0m\u001b[1;33m\u001b[0m\u001b[0m\n\u001b[0m",
            "\u001b[1;31mValueError\u001b[0m: setting an array element with a sequence."
          ]
        }
      ],
      "source": [
        "# replace\n",
        "b[:,1,:] = [[9,9,9],[8,8]]"
      ]
    },
    {
      "cell_type": "markdown",
      "source": [
        "### Indexing and Slicing of Matrices"
      ],
      "metadata": {
        "id": "bXCz7CFHnIyo"
      }
    },
    {
      "cell_type": "code",
      "source": [
        "# Square matrix\n",
        "A = np.array([\n",
        "#.   0. 1. 2\n",
        "    [1, 2, 3], # 0\n",
        "    [4, 5, 6], # 1\n",
        "    [7, 8, 9]  # 2\n",
        "])"
      ],
      "metadata": {
        "id": "hYJDErV_nLvX"
      },
      "execution_count": null,
      "outputs": []
    },
    {
      "cell_type": "code",
      "source": [
        "A[1]"
      ],
      "metadata": {
        "colab": {
          "base_uri": "https://localhost:8080/"
        },
        "id": "_D4b1O4knQ63",
        "outputId": "e03ce7dd-b1fb-47e2-d3e9-7d826be729ea"
      },
      "execution_count": null,
      "outputs": [
        {
          "output_type": "execute_result",
          "data": {
            "text/plain": [
              "array([4, 5, 6])"
            ]
          },
          "metadata": {},
          "execution_count": 79
        }
      ]
    },
    {
      "cell_type": "code",
      "source": [
        "A[1][0]"
      ],
      "metadata": {
        "colab": {
          "base_uri": "https://localhost:8080/"
        },
        "id": "VlScOjZBnTsv",
        "outputId": "2513d112-e754-48b3-8e9a-d7e4368f16cd"
      },
      "execution_count": null,
      "outputs": [
        {
          "output_type": "execute_result",
          "data": {
            "text/plain": [
              "np.int64(4)"
            ]
          },
          "metadata": {},
          "execution_count": 80
        }
      ]
    },
    {
      "cell_type": "code",
      "source": [
        "A[1, 0]"
      ],
      "metadata": {
        "colab": {
          "base_uri": "https://localhost:8080/"
        },
        "id": "4iv_xP0_nWRW",
        "outputId": "88fa95bf-8ab5-47c3-b985-59548af9f0e3"
      },
      "execution_count": null,
      "outputs": [
        {
          "output_type": "execute_result",
          "data": {
            "text/plain": [
              "np.int64(4)"
            ]
          },
          "metadata": {},
          "execution_count": 81
        }
      ]
    },
    {
      "cell_type": "code",
      "source": [
        "A[0:2]"
      ],
      "metadata": {
        "colab": {
          "base_uri": "https://localhost:8080/"
        },
        "id": "VK3StIDnnY4-",
        "outputId": "07b1570e-58db-4cd2-a365-347c2a3a17fd"
      },
      "execution_count": null,
      "outputs": [
        {
          "output_type": "execute_result",
          "data": {
            "text/plain": [
              "array([[1, 2, 3],\n",
              "       [4, 5, 6]])"
            ]
          },
          "metadata": {},
          "execution_count": 82
        }
      ]
    },
    {
      "cell_type": "code",
      "source": [
        "A[:, :2]"
      ],
      "metadata": {
        "colab": {
          "base_uri": "https://localhost:8080/"
        },
        "id": "Z6zjywUFnblO",
        "outputId": "b9a3836e-c721-492b-956c-db7a59055f6b"
      },
      "execution_count": null,
      "outputs": [
        {
          "output_type": "execute_result",
          "data": {
            "text/plain": [
              "array([[1, 2],\n",
              "       [4, 5],\n",
              "       [7, 8]])"
            ]
          },
          "metadata": {},
          "execution_count": 83
        }
      ]
    },
    {
      "cell_type": "code",
      "source": [
        "A[:2, :2]"
      ],
      "metadata": {
        "colab": {
          "base_uri": "https://localhost:8080/"
        },
        "id": "sioFtqrPneF-",
        "outputId": "88f402aa-9d47-4d10-ed22-5221b2fa8bb7"
      },
      "execution_count": null,
      "outputs": [
        {
          "output_type": "execute_result",
          "data": {
            "text/plain": [
              "array([[1, 2],\n",
              "       [4, 5]])"
            ]
          },
          "metadata": {},
          "execution_count": 84
        }
      ]
    },
    {
      "cell_type": "code",
      "source": [
        "A[:2, 2:]"
      ],
      "metadata": {
        "colab": {
          "base_uri": "https://localhost:8080/"
        },
        "id": "djRfXed2nf91",
        "outputId": "0aee7806-ae7d-47f3-9d31-b0727a125979"
      },
      "execution_count": null,
      "outputs": [
        {
          "output_type": "execute_result",
          "data": {
            "text/plain": [
              "array([[3],\n",
              "       [6]])"
            ]
          },
          "metadata": {},
          "execution_count": 85
        }
      ]
    },
    {
      "cell_type": "code",
      "source": [
        "A"
      ],
      "metadata": {
        "colab": {
          "base_uri": "https://localhost:8080/"
        },
        "id": "0NrIM-pqniAe",
        "outputId": "ce906d71-b0de-42fc-ea61-872a2a4ace6e"
      },
      "execution_count": null,
      "outputs": [
        {
          "output_type": "execute_result",
          "data": {
            "text/plain": [
              "array([[1, 2, 3],\n",
              "       [4, 5, 6],\n",
              "       [7, 8, 9]])"
            ]
          },
          "metadata": {},
          "execution_count": 86
        }
      ]
    },
    {
      "cell_type": "code",
      "source": [
        "A[1] = np.array([10, 10, 10])"
      ],
      "metadata": {
        "id": "x__uIeBKnl3F"
      },
      "execution_count": null,
      "outputs": []
    },
    {
      "cell_type": "code",
      "source": [
        "A"
      ],
      "metadata": {
        "colab": {
          "base_uri": "https://localhost:8080/"
        },
        "id": "QFnVj3_Vnnu9",
        "outputId": "c39d460c-7204-4f2e-f990-ad4cf590827d"
      },
      "execution_count": null,
      "outputs": [
        {
          "output_type": "execute_result",
          "data": {
            "text/plain": [
              "array([[ 1,  2,  3],\n",
              "       [10, 10, 10],\n",
              "       [ 7,  8,  9]])"
            ]
          },
          "metadata": {},
          "execution_count": 88
        }
      ]
    },
    {
      "cell_type": "code",
      "source": [
        "A[2] = 99"
      ],
      "metadata": {
        "id": "aAN1ZeP9np7V"
      },
      "execution_count": null,
      "outputs": []
    },
    {
      "cell_type": "code",
      "source": [
        "A"
      ],
      "metadata": {
        "colab": {
          "base_uri": "https://localhost:8080/"
        },
        "id": "lOUWACzYnslM",
        "outputId": "54e8bdfe-c05b-4fbd-937d-f0342eabfda8"
      },
      "execution_count": null,
      "outputs": [
        {
          "output_type": "execute_result",
          "data": {
            "text/plain": [
              "array([[ 1,  2,  3],\n",
              "       [10, 10, 10],\n",
              "       [99, 99, 99]])"
            ]
          },
          "metadata": {},
          "execution_count": 90
        }
      ]
    },
    {
      "cell_type": "code",
      "execution_count": null,
      "metadata": {
        "id": "C5Ei_c86CjAO",
        "outputId": "1f5b307f-d9da-41ec-f549-b7fe0dd02e46"
      },
      "outputs": [
        {
          "data": {
            "text/plain": [
              "array([[[1, 2],\n",
              "        [9, 9]],\n",
              "\n",
              "       [[5, 6],\n",
              "        [8, 8]]])"
            ]
          },
          "execution_count": 33,
          "metadata": {},
          "output_type": "execute_result"
        }
      ],
      "source": [
        "b"
      ]
    },
    {
      "cell_type": "markdown",
      "metadata": {
        "id": "28kZjvo8CjAP"
      },
      "source": [
        "### Initializing Different Types of Arrays"
      ]
    },
    {
      "cell_type": "code",
      "execution_count": null,
      "metadata": {
        "id": "yl5X8tStCjAP",
        "outputId": "ba05af29-8c8e-42c0-9d02-64da86ec74a4"
      },
      "outputs": [
        {
          "data": {
            "text/plain": [
              "array([[0., 0., 0.],\n",
              "       [0., 0., 0.]])"
            ]
          },
          "execution_count": 40,
          "metadata": {},
          "output_type": "execute_result"
        }
      ],
      "source": [
        "# All 0s matrix\n",
        "np.zeros((2,3))"
      ]
    },
    {
      "cell_type": "code",
      "execution_count": null,
      "metadata": {
        "id": "ADNaVTUmCjAP",
        "outputId": "71746d17-6f02-4302-9a6e-30fb8b56dc4e"
      },
      "outputs": [
        {
          "data": {
            "text/plain": [
              "array([[[1, 1],\n",
              "        [1, 1]],\n",
              "\n",
              "       [[1, 1],\n",
              "        [1, 1]],\n",
              "\n",
              "       [[1, 1],\n",
              "        [1, 1]],\n",
              "\n",
              "       [[1, 1],\n",
              "        [1, 1]]])"
            ]
          },
          "execution_count": 42,
          "metadata": {},
          "output_type": "execute_result"
        }
      ],
      "source": [
        "# All 1s matrix\n",
        "np.ones((4,2,2), dtype='int32')"
      ]
    },
    {
      "cell_type": "markdown",
      "source": [
        "* `np.full(shape, fill_value)` → Creates a new array of given shape filled with a specified constant `fill_value`.\n",
        "\n",
        "* `np.full_like(a, fill_value)` → Creates a new array with the same `shape` and `dtype` as array a, filled with a specified constant `fill_value`"
      ],
      "metadata": {
        "id": "3DudEzjoM_9W"
      }
    },
    {
      "cell_type": "code",
      "execution_count": null,
      "metadata": {
        "id": "dBmav9sdCjAP",
        "outputId": "06111ad2-cdfe-487f-f886-94eb1aa51a1d"
      },
      "outputs": [
        {
          "data": {
            "text/plain": [
              "array([[99., 99.],\n",
              "       [99., 99.]], dtype=float32)"
            ]
          },
          "execution_count": 44,
          "metadata": {},
          "output_type": "execute_result"
        }
      ],
      "source": [
        "# Any other number\n",
        "np.full((2,2), 99)"
      ]
    },
    {
      "cell_type": "code",
      "execution_count": null,
      "metadata": {
        "id": "vB7SmhxJCjAP",
        "outputId": "261b5c30-1dfd-444b-9bdc-42403e612524"
      },
      "outputs": [
        {
          "data": {
            "text/plain": [
              "array([[4, 4, 4, 4, 4, 4, 4],\n",
              "       [4, 4, 4, 4, 4, 4, 4]])"
            ]
          },
          "execution_count": 49,
          "metadata": {},
          "output_type": "execute_result"
        }
      ],
      "source": [
        "# Any other number (full_like)\n",
        "np.full_like(a, 4)"
      ]
    },
    {
      "cell_type": "markdown",
      "source": [
        "- **`np.random.rand(d1, d2, …)`** → Creates an array of given shape with **random floats in [0, 1)**.  \n",
        "\n",
        "- **`np.random.randint(low, high, size)`** → Creates an array of given `size` with **random integers from `low` (inclusive) to `high` (exclusive)**."
      ],
      "metadata": {
        "id": "PN-a86LIOAdT"
      }
    },
    {
      "cell_type": "code",
      "execution_count": null,
      "metadata": {
        "id": "WpYq94mDCjAP",
        "outputId": "630201a0-d9b1-40de-f83e-8978ce1573fc"
      },
      "outputs": [
        {
          "data": {
            "text/plain": [
              "array([[0.07805642, 0.53385716],\n",
              "       [0.02494273, 0.99955252],\n",
              "       [0.48588042, 0.91247437],\n",
              "       [0.27779213, 0.16597751]])"
            ]
          },
          "execution_count": 56,
          "metadata": {},
          "output_type": "execute_result"
        }
      ],
      "source": [
        "# Random decimal numbers\n",
        "np.random.rand(4,2)"
      ]
    },
    {
      "cell_type": "code",
      "execution_count": null,
      "metadata": {
        "id": "W5Y_LSLYCjAP",
        "outputId": "12ca3da0-4979-4499-b07a-2b7a748fc7fc"
      },
      "outputs": [
        {
          "data": {
            "text/plain": [
              "array([[-2, -4, -4],\n",
              "       [ 6,  6,  3],\n",
              "       [ 3,  2,  2]])"
            ]
          },
          "execution_count": 73,
          "metadata": {},
          "output_type": "execute_result"
        }
      ],
      "source": [
        "# Random Integer values\n",
        "np.random.randint(-4,8, size=(3,3))"
      ]
    },
    {
      "cell_type": "code",
      "execution_count": null,
      "metadata": {
        "id": "UZaZxMKGCjAP",
        "outputId": "bb1b2f22-3145-4e96-fa20-83485a953b38"
      },
      "outputs": [
        {
          "data": {
            "text/plain": [
              "array([[1., 0., 0., 0., 0.],\n",
              "       [0., 1., 0., 0., 0.],\n",
              "       [0., 0., 1., 0., 0.],\n",
              "       [0., 0., 0., 1., 0.],\n",
              "       [0., 0., 0., 0., 1.]])"
            ]
          },
          "execution_count": 76,
          "metadata": {},
          "output_type": "execute_result"
        }
      ],
      "source": [
        "# The identity matrix (diagonal is 1 and all are 0)\n",
        "np.identity(5)"
      ]
    },
    {
      "cell_type": "code",
      "execution_count": null,
      "metadata": {
        "id": "EUDHJaZ2CjAQ",
        "outputId": "e5bd13ea-eef9-4bed-80ab-4b5e1204e64c"
      },
      "outputs": [
        {
          "name": "stdout",
          "output_type": "stream",
          "text": [
            "[[1 2 3]\n",
            " [1 2 3]\n",
            " [1 2 3]]\n"
          ]
        }
      ],
      "source": [
        "# Repeat an array\n",
        "arr = np.array([[1,2,3]])\n",
        "r1 = np.repeat(arr,3, axis=0)\n",
        "print(r1)"
      ]
    },
    {
      "cell_type": "code",
      "execution_count": null,
      "metadata": {
        "id": "gE13FgMXCjAQ",
        "outputId": "99295762-b280-42a5-f6d0-7c68658d9761",
        "colab": {
          "base_uri": "https://localhost:8080/"
        }
      },
      "outputs": [
        {
          "output_type": "stream",
          "name": "stdout",
          "text": [
            "[[1. 1. 1. 1. 1.]\n",
            " [1. 1. 1. 1. 1.]\n",
            " [1. 1. 1. 1. 1.]\n",
            " [1. 1. 1. 1. 1.]\n",
            " [1. 1. 1. 1. 1.]]\n",
            "\n",
            " [[0. 0. 0.]\n",
            " [0. 9. 0.]\n",
            " [0. 0. 0.]]\n",
            "\n",
            " [[1. 1. 1. 1. 1.]\n",
            " [1. 0. 0. 0. 1.]\n",
            " [1. 0. 9. 0. 1.]\n",
            " [1. 0. 0. 0. 1.]\n",
            " [1. 1. 1. 1. 1.]]\n"
          ]
        }
      ],
      "source": [
        "# Create a 5x5 array filled with ones\n",
        "output = np.ones((5,5))\n",
        "print(output)\n",
        "\n",
        "# Create a 3x3 array filled with zeros\n",
        "z = np.zeros((3,3))\n",
        "z[1,1] = 9 # Set the center element to 9\n",
        "print(\"\\n\", z)\n",
        "\n",
        "# Embed the 3x3 array z into the center of the 5x5 array 'output'\n",
        "output[1:-1,1:-1] = z\n",
        "print(\"\\n\",output)"
      ]
    },
    {
      "cell_type": "markdown",
      "metadata": {
        "id": "m7Zfe6MICjAQ"
      },
      "source": [
        "##### Be careful when copying arrays!!!"
      ]
    },
    {
      "cell_type": "code",
      "execution_count": null,
      "metadata": {
        "id": "w9xYbKGmCjAQ",
        "outputId": "0702fd75-3675-40c2-d7b2-3415f47bfcd6",
        "colab": {
          "base_uri": "https://localhost:8080/"
        }
      },
      "outputs": [
        {
          "output_type": "stream",
          "name": "stdout",
          "text": [
            "[1 2 3]\n",
            "[100   2   3]\n"
          ]
        }
      ],
      "source": [
        "a = np.array([1,2,3])\n",
        "b = a.copy()\n",
        "b[0] = 100\n",
        "\n",
        "print(a)\n",
        "print(b)"
      ]
    },
    {
      "cell_type": "markdown",
      "metadata": {
        "id": "dFnwi2kuvEmI"
      },
      "source": [
        "## Summary statistics"
      ]
    },
    {
      "cell_type": "code",
      "execution_count": null,
      "metadata": {
        "id": "bRWDjpb7vEmI"
      },
      "outputs": [],
      "source": [
        "a = np.array([1, 2, 3, 4])"
      ]
    },
    {
      "cell_type": "code",
      "execution_count": null,
      "metadata": {
        "id": "szhoiFJtvEmJ",
        "outputId": "38dc12a3-64d8-4712-fda9-b351e320f2d8"
      },
      "outputs": [
        {
          "data": {
            "text/plain": [
              "10"
            ]
          },
          "execution_count": 50,
          "metadata": {},
          "output_type": "execute_result"
        }
      ],
      "source": [
        "a.sum()"
      ]
    },
    {
      "cell_type": "code",
      "execution_count": null,
      "metadata": {
        "id": "byjGCG-tvEmJ",
        "outputId": "5f1c8d2d-24ac-43e9-d93b-269399325b54"
      },
      "outputs": [
        {
          "data": {
            "text/plain": [
              "2.5"
            ]
          },
          "execution_count": 51,
          "metadata": {},
          "output_type": "execute_result"
        }
      ],
      "source": [
        "a.mean()"
      ]
    },
    {
      "cell_type": "code",
      "execution_count": null,
      "metadata": {
        "id": "OrMulu8-vEmJ",
        "outputId": "3c58cbd6-7406-481d-81a8-1754d4c67832"
      },
      "outputs": [
        {
          "data": {
            "text/plain": [
              "1.118033988749895"
            ]
          },
          "execution_count": 52,
          "metadata": {},
          "output_type": "execute_result"
        }
      ],
      "source": [
        "a.std()"
      ]
    },
    {
      "cell_type": "code",
      "execution_count": null,
      "metadata": {
        "id": "T93OxpUAvEmJ",
        "outputId": "0ba3ddd4-71eb-4aab-88c4-1ff751560bbd"
      },
      "outputs": [
        {
          "data": {
            "text/plain": [
              "1.25"
            ]
          },
          "execution_count": 53,
          "metadata": {},
          "output_type": "execute_result"
        }
      ],
      "source": [
        "a.var()"
      ]
    },
    {
      "cell_type": "code",
      "execution_count": null,
      "metadata": {
        "id": "W1NIrcwAvEmJ"
      },
      "outputs": [],
      "source": [
        "A = np.array([\n",
        "    [1, 2, 3],\n",
        "    [4, 5, 6],\n",
        "    [7, 8, 9]\n",
        "])"
      ]
    },
    {
      "cell_type": "code",
      "execution_count": null,
      "metadata": {
        "id": "YxtzAeFsvEmK",
        "outputId": "c094e9d1-cd4a-4ae3-8c9f-fd0b0ad31d67"
      },
      "outputs": [
        {
          "data": {
            "text/plain": [
              "45"
            ]
          },
          "execution_count": 55,
          "metadata": {},
          "output_type": "execute_result"
        }
      ],
      "source": [
        "A.sum()"
      ]
    },
    {
      "cell_type": "code",
      "execution_count": null,
      "metadata": {
        "id": "msL39AaovEmK",
        "outputId": "675d5f1d-61dc-4057-d391-5baefd13c839"
      },
      "outputs": [
        {
          "data": {
            "text/plain": [
              "5.0"
            ]
          },
          "execution_count": 56,
          "metadata": {},
          "output_type": "execute_result"
        }
      ],
      "source": [
        "A.mean()"
      ]
    },
    {
      "cell_type": "code",
      "execution_count": null,
      "metadata": {
        "id": "gq-8ub0uvEmK",
        "outputId": "3a2b910d-a299-4935-ef82-1bbcf0aad9dd"
      },
      "outputs": [
        {
          "data": {
            "text/plain": [
              "2.581988897471611"
            ]
          },
          "execution_count": 57,
          "metadata": {},
          "output_type": "execute_result"
        }
      ],
      "source": [
        "A.std()"
      ]
    },
    {
      "cell_type": "code",
      "execution_count": null,
      "metadata": {
        "id": "ZQwoXnsIvEmK",
        "outputId": "a589bed9-9e9f-4d22-fc4c-5bf29cf07562"
      },
      "outputs": [
        {
          "data": {
            "text/plain": [
              "array([12, 15, 18])"
            ]
          },
          "execution_count": 58,
          "metadata": {},
          "output_type": "execute_result"
        }
      ],
      "source": [
        "A.sum(axis=0)"
      ]
    },
    {
      "cell_type": "code",
      "execution_count": null,
      "metadata": {
        "id": "G9xdzfFJvEmK",
        "outputId": "90650b12-1baf-4c16-93b1-4705bffb4cf2"
      },
      "outputs": [
        {
          "data": {
            "text/plain": [
              "array([ 6, 15, 24])"
            ]
          },
          "execution_count": 59,
          "metadata": {},
          "output_type": "execute_result"
        }
      ],
      "source": [
        "A.sum(axis=1)"
      ]
    },
    {
      "cell_type": "code",
      "execution_count": null,
      "metadata": {
        "scrolled": true,
        "id": "0KJVgjTgvEmK",
        "outputId": "55ad56dd-1e97-4f16-d46e-4a7a436899e6"
      },
      "outputs": [
        {
          "data": {
            "text/plain": [
              "array([4., 5., 6.])"
            ]
          },
          "execution_count": 60,
          "metadata": {},
          "output_type": "execute_result"
        }
      ],
      "source": [
        "A.mean(axis=0)"
      ]
    },
    {
      "cell_type": "code",
      "execution_count": null,
      "metadata": {
        "id": "pkKIAaTsvEmK",
        "outputId": "f1743c05-ab71-4460-fd87-9f757d66851a"
      },
      "outputs": [
        {
          "data": {
            "text/plain": [
              "array([2., 5., 8.])"
            ]
          },
          "execution_count": 61,
          "metadata": {},
          "output_type": "execute_result"
        }
      ],
      "source": [
        "A.mean(axis=1)"
      ]
    },
    {
      "cell_type": "code",
      "execution_count": null,
      "metadata": {
        "id": "STE6ye1kvEmL",
        "outputId": "67e2b525-08e0-4c13-88fc-7c5900963a48"
      },
      "outputs": [
        {
          "data": {
            "text/plain": [
              "array([2.44948974, 2.44948974, 2.44948974])"
            ]
          },
          "execution_count": 62,
          "metadata": {},
          "output_type": "execute_result"
        }
      ],
      "source": [
        "A.std(axis=0)"
      ]
    },
    {
      "cell_type": "code",
      "execution_count": null,
      "metadata": {
        "scrolled": true,
        "id": "vPWnc3K4vEmL",
        "outputId": "12b9d9db-7c4e-49b2-cd71-7a6563087ba9"
      },
      "outputs": [
        {
          "data": {
            "text/plain": [
              "array([0.81649658, 0.81649658, 0.81649658])"
            ]
          },
          "execution_count": 63,
          "metadata": {},
          "output_type": "execute_result"
        }
      ],
      "source": [
        "A.std(axis=1)"
      ]
    },
    {
      "cell_type": "markdown",
      "metadata": {
        "id": "Oyzh-5qyvEmL"
      },
      "source": [
        "And [many more](https://docs.scipy.org/doc/numpy-1.13.0/reference/arrays.ndarray.html#array-methods)..."
      ]
    },
    {
      "cell_type": "markdown",
      "metadata": {
        "id": "7AD8McplCjAQ"
      },
      "source": [
        "### Mathematics"
      ]
    },
    {
      "cell_type": "code",
      "execution_count": null,
      "metadata": {
        "id": "hNZv_ceRCjAQ",
        "outputId": "b6f71767-74eb-49d5-b775-bdaf8a1eee8a",
        "colab": {
          "base_uri": "https://localhost:8080/"
        }
      },
      "outputs": [
        {
          "output_type": "stream",
          "name": "stdout",
          "text": [
            "[1 2 3 4]\n"
          ]
        }
      ],
      "source": [
        "a = np.array([1,2,3,4])\n",
        "print(a)"
      ]
    },
    {
      "cell_type": "code",
      "execution_count": null,
      "metadata": {
        "id": "BoW1JmoICjAR",
        "outputId": "a939658a-c11b-4f3c-e400-2cf80528ad62",
        "colab": {
          "base_uri": "https://localhost:8080/"
        }
      },
      "outputs": [
        {
          "output_type": "execute_result",
          "data": {
            "text/plain": [
              "array([3, 4, 5, 6])"
            ]
          },
          "metadata": {},
          "execution_count": 6
        }
      ],
      "source": [
        "a + 2"
      ]
    },
    {
      "cell_type": "code",
      "execution_count": null,
      "metadata": {
        "id": "eqzCILDGCjAR",
        "outputId": "ee3faeed-431e-4f1b-8520-00668738df42",
        "colab": {
          "base_uri": "https://localhost:8080/"
        }
      },
      "outputs": [
        {
          "output_type": "execute_result",
          "data": {
            "text/plain": [
              "array([-1,  0,  1,  2])"
            ]
          },
          "metadata": {},
          "execution_count": 7
        }
      ],
      "source": [
        "a - 2"
      ]
    },
    {
      "cell_type": "code",
      "execution_count": null,
      "metadata": {
        "id": "oI1BKOreCjAV",
        "outputId": "ded1cebf-072b-4abc-a5b4-eab622c694ec",
        "colab": {
          "base_uri": "https://localhost:8080/"
        }
      },
      "outputs": [
        {
          "output_type": "execute_result",
          "data": {
            "text/plain": [
              "array([2, 4, 6, 8])"
            ]
          },
          "metadata": {},
          "execution_count": 8
        }
      ],
      "source": [
        "a * 2"
      ]
    },
    {
      "cell_type": "code",
      "execution_count": null,
      "metadata": {
        "id": "7IVAA_FGCjAV",
        "outputId": "efddf48e-8402-4150-d55d-0b9640022dc9",
        "colab": {
          "base_uri": "https://localhost:8080/"
        }
      },
      "outputs": [
        {
          "output_type": "execute_result",
          "data": {
            "text/plain": [
              "array([0.5, 1. , 1.5, 2. ])"
            ]
          },
          "metadata": {},
          "execution_count": 9
        }
      ],
      "source": [
        "a / 2"
      ]
    },
    {
      "cell_type": "code",
      "execution_count": null,
      "metadata": {
        "id": "rwReO06aCjAV",
        "outputId": "9a6e54d2-2580-4949-871b-d11b2d7f1b48",
        "colab": {
          "base_uri": "https://localhost:8080/"
        }
      },
      "outputs": [
        {
          "output_type": "execute_result",
          "data": {
            "text/plain": [
              "array([ 1,  4,  9, 16])"
            ]
          },
          "metadata": {},
          "execution_count": 14
        }
      ],
      "source": [
        "a ** 2"
      ]
    },
    {
      "cell_type": "code",
      "source": [
        "a"
      ],
      "metadata": {
        "colab": {
          "base_uri": "https://localhost:8080/"
        },
        "id": "P9qbUT0TRQCf",
        "outputId": "3647b452-2969-4031-e439-0a6a0451d617"
      },
      "execution_count": null,
      "outputs": [
        {
          "output_type": "execute_result",
          "data": {
            "text/plain": [
              "array([1, 2, 3, 4])"
            ]
          },
          "metadata": {},
          "execution_count": 15
        }
      ]
    },
    {
      "cell_type": "code",
      "execution_count": null,
      "metadata": {
        "id": "MC9k32huCjAV",
        "outputId": "dcb9bc6e-b48d-406b-832d-dad12f93a523",
        "colab": {
          "base_uri": "https://localhost:8080/"
        }
      },
      "outputs": [
        {
          "output_type": "execute_result",
          "data": {
            "text/plain": [
              "array([2, 2, 4, 4])"
            ]
          },
          "metadata": {},
          "execution_count": 16
        }
      ],
      "source": [
        "b = np.array([1,0,1,0])\n",
        "a + b"
      ]
    },
    {
      "cell_type": "code",
      "execution_count": null,
      "metadata": {
        "id": "UIM4oHdzCjAW",
        "outputId": "d119ece8-8efe-4e18-e34a-cfa1e84d08e9",
        "colab": {
          "base_uri": "https://localhost:8080/"
        }
      },
      "outputs": [
        {
          "output_type": "execute_result",
          "data": {
            "text/plain": [
              "array([ 0.54030231, -0.41614684, -0.9899925 , -0.65364362])"
            ]
          },
          "metadata": {},
          "execution_count": 17
        }
      ],
      "source": [
        "# Take the sin\n",
        "np.cos(a)"
      ]
    },
    {
      "cell_type": "code",
      "source": [
        "l = [0, 1, 2, 3]\n",
        "\n",
        "[i * 10 for i in l]"
      ],
      "metadata": {
        "colab": {
          "base_uri": "https://localhost:8080/"
        },
        "id": "G4tZsf3dvk7l",
        "outputId": "6277574d-70bb-4423-b008-bb893be0eeb9"
      },
      "execution_count": null,
      "outputs": [
        {
          "output_type": "execute_result",
          "data": {
            "text/plain": [
              "[0, 10, 20, 30]"
            ]
          },
          "metadata": {},
          "execution_count": 92
        }
      ]
    },
    {
      "cell_type": "markdown",
      "source": [
        "**For a lot more** (https://docs.scipy.org/doc/numpy/reference/routines.math.html)"
      ],
      "metadata": {
        "id": "LXytEsddRmOS"
      }
    },
    {
      "cell_type": "markdown",
      "metadata": {
        "id": "rvodJ1UTCjAW"
      },
      "source": [
        "### Linear Algebra"
      ]
    },
    {
      "cell_type": "code",
      "execution_count": null,
      "metadata": {
        "id": "958CwGcRCjAW",
        "outputId": "cd11af30-bb3a-4743-c2a2-a1a6ac6a599d",
        "colab": {
          "base_uri": "https://localhost:8080/"
        }
      },
      "outputs": [
        {
          "output_type": "stream",
          "name": "stdout",
          "text": [
            "[[1. 1. 1.]\n",
            " [1. 1. 1.]]\n",
            "[[2 2]\n",
            " [2 2]\n",
            " [2 2]]\n"
          ]
        },
        {
          "output_type": "execute_result",
          "data": {
            "text/plain": [
              "array([[6., 6.],\n",
              "       [6., 6.]])"
            ]
          },
          "metadata": {},
          "execution_count": 18
        }
      ],
      "source": [
        "a = np.ones((2,3))\n",
        "print(a)\n",
        "\n",
        "b = np.full((3,2), 2)\n",
        "print(b)\n",
        "\n",
        "np.matmul(a,b)"
      ]
    },
    {
      "cell_type": "code",
      "execution_count": null,
      "metadata": {
        "id": "nQqlxez0CjAW",
        "outputId": "af09e7a7-9e8a-4d13-9df1-0b267803dd21",
        "colab": {
          "base_uri": "https://localhost:8080/"
        }
      },
      "outputs": [
        {
          "output_type": "execute_result",
          "data": {
            "text/plain": [
              "np.float64(1.0)"
            ]
          },
          "metadata": {},
          "execution_count": 19
        }
      ],
      "source": [
        "# Find the determinant\n",
        "c = np.identity(3)\n",
        "np.linalg.det(c)"
      ]
    },
    {
      "cell_type": "code",
      "execution_count": null,
      "metadata": {
        "id": "6p9VeffMvEmQ"
      },
      "outputs": [],
      "source": [
        "A = np.array([\n",
        "    [1, 2, 3],\n",
        "    [4, 5, 6],\n",
        "    [7, 8, 9]\n",
        "])"
      ]
    },
    {
      "cell_type": "code",
      "execution_count": null,
      "metadata": {
        "id": "y-utT4M5vEmQ"
      },
      "outputs": [],
      "source": [
        "B = np.array([\n",
        "    [6, 5],\n",
        "    [4, 3],\n",
        "    [2, 1]\n",
        "])"
      ]
    },
    {
      "cell_type": "code",
      "execution_count": null,
      "metadata": {
        "id": "jBpGjRHBvEmQ",
        "outputId": "c12e97e5-80ee-4b41-d81a-7cdbc319163a"
      },
      "outputs": [
        {
          "data": {
            "text/plain": [
              "array([[20, 14],\n",
              "       [56, 41],\n",
              "       [92, 68]])"
            ]
          },
          "execution_count": 103,
          "metadata": {},
          "output_type": "execute_result"
        }
      ],
      "source": [
        "A.dot(B)"
      ]
    },
    {
      "cell_type": "code",
      "execution_count": null,
      "metadata": {
        "id": "wJkjBgZfvEmR",
        "outputId": "1a6ac6ba-d006-4b41-ba50-915f0c38e5cb"
      },
      "outputs": [
        {
          "data": {
            "text/plain": [
              "array([[20, 14],\n",
              "       [56, 41],\n",
              "       [92, 68]])"
            ]
          },
          "execution_count": 104,
          "metadata": {},
          "output_type": "execute_result"
        }
      ],
      "source": [
        "A @ B"
      ]
    },
    {
      "cell_type": "code",
      "execution_count": null,
      "metadata": {
        "id": "HiBFjG8JvEmR",
        "outputId": "03484603-3ed2-4c0d-e61e-0c503142d823"
      },
      "outputs": [
        {
          "data": {
            "text/plain": [
              "array([[6, 4, 2],\n",
              "       [5, 3, 1]])"
            ]
          },
          "execution_count": 105,
          "metadata": {},
          "output_type": "execute_result"
        }
      ],
      "source": [
        "B.T"
      ]
    },
    {
      "cell_type": "code",
      "execution_count": null,
      "metadata": {
        "id": "Rfqk7Q8svEmR",
        "outputId": "4169b6a2-2930-43d5-fa65-0932d7b699c5"
      },
      "outputs": [
        {
          "data": {
            "text/plain": [
              "array([[1, 2, 3],\n",
              "       [4, 5, 6],\n",
              "       [7, 8, 9]])"
            ]
          },
          "execution_count": 106,
          "metadata": {},
          "output_type": "execute_result"
        }
      ],
      "source": [
        "A"
      ]
    },
    {
      "cell_type": "code",
      "execution_count": null,
      "metadata": {
        "scrolled": true,
        "id": "u9cFW6cHvEmR",
        "outputId": "a123e8e4-21a4-46e4-dcd6-da1b7fc93b33"
      },
      "outputs": [
        {
          "data": {
            "text/plain": [
              "array([[36, 48, 60],\n",
              "       [24, 33, 42]])"
            ]
          },
          "execution_count": 107,
          "metadata": {},
          "output_type": "execute_result"
        }
      ],
      "source": [
        "B.T @ A"
      ]
    },
    {
      "cell_type": "code",
      "execution_count": null,
      "metadata": {
        "id": "2qO1D5SGCjAW"
      },
      "outputs": [],
      "source": [
        "## Reference docs (https://docs.scipy.org/doc/numpy/reference/routines.linalg.html)\n",
        "\n",
        "# Determinant\n",
        "# Trace\n",
        "# Singular Vector Decomposition\n",
        "# Eigenvalues\n",
        "# Matrix Norm\n",
        "# Inverse\n",
        "# Etc..."
      ]
    },
    {
      "cell_type": "markdown",
      "metadata": {
        "id": "BaKKNt5BCjAY"
      },
      "source": [
        "### Reorganizing Arrays"
      ]
    },
    {
      "cell_type": "code",
      "execution_count": null,
      "metadata": {
        "id": "kadjiAH6CjAY",
        "outputId": "6ef6eaad-ccd4-4518-a270-dd06cacc9299",
        "colab": {
          "base_uri": "https://localhost:8080/",
          "height": 274
        }
      },
      "outputs": [
        {
          "output_type": "stream",
          "name": "stdout",
          "text": [
            "[[1 2 3 4]\n",
            " [5 6 7 8]]\n"
          ]
        },
        {
          "output_type": "error",
          "ename": "ValueError",
          "evalue": "cannot reshape array of size 8 into shape (2,3)",
          "traceback": [
            "\u001b[0;31m---------------------------------------------------------------------------\u001b[0m",
            "\u001b[0;31mValueError\u001b[0m                                Traceback (most recent call last)",
            "\u001b[0;32m/tmp/ipython-input-846531685.py\u001b[0m in \u001b[0;36m<cell line: 0>\u001b[0;34m()\u001b[0m\n\u001b[1;32m      7\u001b[0m \u001b[0;34m\u001b[0m\u001b[0m\n\u001b[1;32m      8\u001b[0m \u001b[0;31m# This will raise an error because the total number of elements must remain the same\u001b[0m\u001b[0;34m\u001b[0m\u001b[0;34m\u001b[0m\u001b[0m\n\u001b[0;32m----> 9\u001b[0;31m \u001b[0mafter\u001b[0m \u001b[0;34m=\u001b[0m \u001b[0mbefore\u001b[0m\u001b[0;34m.\u001b[0m\u001b[0mreshape\u001b[0m\u001b[0;34m(\u001b[0m\u001b[0;34m(\u001b[0m\u001b[0;36m2\u001b[0m\u001b[0;34m,\u001b[0m\u001b[0;36m3\u001b[0m\u001b[0;34m)\u001b[0m\u001b[0;34m)\u001b[0m\u001b[0;34m\u001b[0m\u001b[0;34m\u001b[0m\u001b[0m\n\u001b[0m\u001b[1;32m     10\u001b[0m \u001b[0mprint\u001b[0m\u001b[0;34m(\u001b[0m\u001b[0mafter\u001b[0m\u001b[0;34m)\u001b[0m\u001b[0;34m\u001b[0m\u001b[0;34m\u001b[0m\u001b[0m\n\u001b[1;32m     11\u001b[0m \u001b[0;34m\u001b[0m\u001b[0m\n",
            "\u001b[0;31mValueError\u001b[0m: cannot reshape array of size 8 into shape (2,3)"
          ]
        }
      ],
      "source": [
        "before = np.array([[1,2,3,4],\n",
        "                   [5,6,7,8]])\n",
        "print(before)\n",
        "# Output:\n",
        "# [[1 2 3 4]\n",
        "#  [5 6 7 8]]\n",
        "\n",
        "# This will raise an error because the total number of elements must remain the same\n",
        "after = before.reshape((2,3))\n",
        "print(after)\n",
        "\n",
        "# Original shape: 2x4 → 8 elements\n",
        "# New shape: 2x3 → 6 elements\n",
        "# Cannot reshape 8 elements into 6 → ValueError"
      ]
    },
    {
      "cell_type": "code",
      "source": [
        "after = before.reshape((4,2))\n",
        "print(after)"
      ],
      "metadata": {
        "colab": {
          "base_uri": "https://localhost:8080/"
        },
        "id": "zzA8g1uJVlzV",
        "outputId": "ae0b7044-ad5e-45a8-d332-77523df38029"
      },
      "execution_count": null,
      "outputs": [
        {
          "output_type": "stream",
          "name": "stdout",
          "text": [
            "[[1 2]\n",
            " [3 4]\n",
            " [5 6]\n",
            " [7 8]]\n"
          ]
        }
      ]
    },
    {
      "cell_type": "code",
      "execution_count": null,
      "metadata": {
        "id": "q2C78WfdCjAY",
        "outputId": "8c0e46a7-2f25-48aa-dae5-b7c9cb3a8dc7",
        "colab": {
          "base_uri": "https://localhost:8080/"
        }
      },
      "outputs": [
        {
          "output_type": "stream",
          "name": "stdout",
          "text": [
            "[[1 2 3 4]\n",
            " [5 6 7 8]\n",
            " [1 2 3 4]\n",
            " [5 6 7 8]]\n"
          ]
        }
      ],
      "source": [
        "# Vertically stack multiple 1D arrays (vectors) to form a 2D array\n",
        "# Each input array becomes a row in the resulting 2D array\n",
        "v1 = np.array([1,2,3,4])\n",
        "v2 = np.array([5,6,7,8])\n",
        "\n",
        "result = np.vstack([v1, v2, v1, v2])\n",
        "print(result)"
      ]
    },
    {
      "cell_type": "code",
      "execution_count": null,
      "metadata": {
        "id": "fUq5h8t1CjAY",
        "outputId": "ca934a21-6bd4-479e-ea8f-69801ba5fd7d",
        "colab": {
          "base_uri": "https://localhost:8080/"
        }
      },
      "outputs": [
        {
          "output_type": "stream",
          "name": "stdout",
          "text": [
            "[[1. 1. 1. 1. 0. 0.]\n",
            " [1. 1. 1. 1. 0. 0.]]\n"
          ]
        }
      ],
      "source": [
        "# Horizontally stack two arrays (side by side)\n",
        "# Both arrays must have the same number of rows\n",
        "h1 = np.ones((2,4))   # 2x4 array of ones\n",
        "h2 = np.zeros((2,2))  # 2x2 array of zeros\n",
        "\n",
        "result = np.hstack((h1, h2))\n",
        "print(result)"
      ]
    },
    {
      "cell_type": "markdown",
      "metadata": {
        "id": "mnHq8Y0yCjAZ"
      },
      "source": [
        "### Miscellaneous\n",
        "##### Load Data from File"
      ]
    },
    {
      "cell_type": "code",
      "source": [
        "from google.colab import files\n",
        "uploaded = files.upload()"
      ],
      "metadata": {
        "colab": {
          "base_uri": "https://localhost:8080/",
          "height": 72
        },
        "id": "Yjy7m70yWQBp",
        "outputId": "1f29ffee-b2a4-4693-c748-f22700792604"
      },
      "execution_count": null,
      "outputs": [
        {
          "output_type": "display_data",
          "data": {
            "text/plain": [
              "<IPython.core.display.HTML object>"
            ],
            "text/html": [
              "\n",
              "     <input type=\"file\" id=\"files-e294b9f0-9f8d-48e2-b6af-c657a6c01661\" name=\"files[]\" multiple disabled\n",
              "        style=\"border:none\" />\n",
              "     <output id=\"result-e294b9f0-9f8d-48e2-b6af-c657a6c01661\">\n",
              "      Upload widget is only available when the cell has been executed in the\n",
              "      current browser session. Please rerun this cell to enable.\n",
              "      </output>\n",
              "      <script>// Copyright 2017 Google LLC\n",
              "//\n",
              "// Licensed under the Apache License, Version 2.0 (the \"License\");\n",
              "// you may not use this file except in compliance with the License.\n",
              "// You may obtain a copy of the License at\n",
              "//\n",
              "//      http://www.apache.org/licenses/LICENSE-2.0\n",
              "//\n",
              "// Unless required by applicable law or agreed to in writing, software\n",
              "// distributed under the License is distributed on an \"AS IS\" BASIS,\n",
              "// WITHOUT WARRANTIES OR CONDITIONS OF ANY KIND, either express or implied.\n",
              "// See the License for the specific language governing permissions and\n",
              "// limitations under the License.\n",
              "\n",
              "/**\n",
              " * @fileoverview Helpers for google.colab Python module.\n",
              " */\n",
              "(function(scope) {\n",
              "function span(text, styleAttributes = {}) {\n",
              "  const element = document.createElement('span');\n",
              "  element.textContent = text;\n",
              "  for (const key of Object.keys(styleAttributes)) {\n",
              "    element.style[key] = styleAttributes[key];\n",
              "  }\n",
              "  return element;\n",
              "}\n",
              "\n",
              "// Max number of bytes which will be uploaded at a time.\n",
              "const MAX_PAYLOAD_SIZE = 100 * 1024;\n",
              "\n",
              "function _uploadFiles(inputId, outputId) {\n",
              "  const steps = uploadFilesStep(inputId, outputId);\n",
              "  const outputElement = document.getElementById(outputId);\n",
              "  // Cache steps on the outputElement to make it available for the next call\n",
              "  // to uploadFilesContinue from Python.\n",
              "  outputElement.steps = steps;\n",
              "\n",
              "  return _uploadFilesContinue(outputId);\n",
              "}\n",
              "\n",
              "// This is roughly an async generator (not supported in the browser yet),\n",
              "// where there are multiple asynchronous steps and the Python side is going\n",
              "// to poll for completion of each step.\n",
              "// This uses a Promise to block the python side on completion of each step,\n",
              "// then passes the result of the previous step as the input to the next step.\n",
              "function _uploadFilesContinue(outputId) {\n",
              "  const outputElement = document.getElementById(outputId);\n",
              "  const steps = outputElement.steps;\n",
              "\n",
              "  const next = steps.next(outputElement.lastPromiseValue);\n",
              "  return Promise.resolve(next.value.promise).then((value) => {\n",
              "    // Cache the last promise value to make it available to the next\n",
              "    // step of the generator.\n",
              "    outputElement.lastPromiseValue = value;\n",
              "    return next.value.response;\n",
              "  });\n",
              "}\n",
              "\n",
              "/**\n",
              " * Generator function which is called between each async step of the upload\n",
              " * process.\n",
              " * @param {string} inputId Element ID of the input file picker element.\n",
              " * @param {string} outputId Element ID of the output display.\n",
              " * @return {!Iterable<!Object>} Iterable of next steps.\n",
              " */\n",
              "function* uploadFilesStep(inputId, outputId) {\n",
              "  const inputElement = document.getElementById(inputId);\n",
              "  inputElement.disabled = false;\n",
              "\n",
              "  const outputElement = document.getElementById(outputId);\n",
              "  outputElement.innerHTML = '';\n",
              "\n",
              "  const pickedPromise = new Promise((resolve) => {\n",
              "    inputElement.addEventListener('change', (e) => {\n",
              "      resolve(e.target.files);\n",
              "    });\n",
              "  });\n",
              "\n",
              "  const cancel = document.createElement('button');\n",
              "  inputElement.parentElement.appendChild(cancel);\n",
              "  cancel.textContent = 'Cancel upload';\n",
              "  const cancelPromise = new Promise((resolve) => {\n",
              "    cancel.onclick = () => {\n",
              "      resolve(null);\n",
              "    };\n",
              "  });\n",
              "\n",
              "  // Wait for the user to pick the files.\n",
              "  const files = yield {\n",
              "    promise: Promise.race([pickedPromise, cancelPromise]),\n",
              "    response: {\n",
              "      action: 'starting',\n",
              "    }\n",
              "  };\n",
              "\n",
              "  cancel.remove();\n",
              "\n",
              "  // Disable the input element since further picks are not allowed.\n",
              "  inputElement.disabled = true;\n",
              "\n",
              "  if (!files) {\n",
              "    return {\n",
              "      response: {\n",
              "        action: 'complete',\n",
              "      }\n",
              "    };\n",
              "  }\n",
              "\n",
              "  for (const file of files) {\n",
              "    const li = document.createElement('li');\n",
              "    li.append(span(file.name, {fontWeight: 'bold'}));\n",
              "    li.append(span(\n",
              "        `(${file.type || 'n/a'}) - ${file.size} bytes, ` +\n",
              "        `last modified: ${\n",
              "            file.lastModifiedDate ? file.lastModifiedDate.toLocaleDateString() :\n",
              "                                    'n/a'} - `));\n",
              "    const percent = span('0% done');\n",
              "    li.appendChild(percent);\n",
              "\n",
              "    outputElement.appendChild(li);\n",
              "\n",
              "    const fileDataPromise = new Promise((resolve) => {\n",
              "      const reader = new FileReader();\n",
              "      reader.onload = (e) => {\n",
              "        resolve(e.target.result);\n",
              "      };\n",
              "      reader.readAsArrayBuffer(file);\n",
              "    });\n",
              "    // Wait for the data to be ready.\n",
              "    let fileData = yield {\n",
              "      promise: fileDataPromise,\n",
              "      response: {\n",
              "        action: 'continue',\n",
              "      }\n",
              "    };\n",
              "\n",
              "    // Use a chunked sending to avoid message size limits. See b/62115660.\n",
              "    let position = 0;\n",
              "    do {\n",
              "      const length = Math.min(fileData.byteLength - position, MAX_PAYLOAD_SIZE);\n",
              "      const chunk = new Uint8Array(fileData, position, length);\n",
              "      position += length;\n",
              "\n",
              "      const base64 = btoa(String.fromCharCode.apply(null, chunk));\n",
              "      yield {\n",
              "        response: {\n",
              "          action: 'append',\n",
              "          file: file.name,\n",
              "          data: base64,\n",
              "        },\n",
              "      };\n",
              "\n",
              "      let percentDone = fileData.byteLength === 0 ?\n",
              "          100 :\n",
              "          Math.round((position / fileData.byteLength) * 100);\n",
              "      percent.textContent = `${percentDone}% done`;\n",
              "\n",
              "    } while (position < fileData.byteLength);\n",
              "  }\n",
              "\n",
              "  // All done.\n",
              "  yield {\n",
              "    response: {\n",
              "      action: 'complete',\n",
              "    }\n",
              "  };\n",
              "}\n",
              "\n",
              "scope.google = scope.google || {};\n",
              "scope.google.colab = scope.google.colab || {};\n",
              "scope.google.colab._files = {\n",
              "  _uploadFiles,\n",
              "  _uploadFilesContinue,\n",
              "};\n",
              "})(self);\n",
              "</script> "
            ]
          },
          "metadata": {}
        },
        {
          "output_type": "stream",
          "name": "stdout",
          "text": [
            "Saving data.txt to data.txt\n"
          ]
        }
      ]
    },
    {
      "cell_type": "code",
      "execution_count": null,
      "metadata": {
        "id": "zICNN1xwCjAZ",
        "outputId": "799f6a84-c3ae-44f1-8143-feb7824dbf18",
        "colab": {
          "base_uri": "https://localhost:8080/"
        }
      },
      "outputs": [
        {
          "output_type": "stream",
          "name": "stdout",
          "text": [
            "[[  1  13  21  11 196  75   4   3  34   6   7   8   0   1   2   3   4   5]\n",
            " [  3  42  12  33 766  75   4  55   6   4   3   4   5   6   7   0  11  12]\n",
            " [  1  22  33  11 999  11   2   1  78   0   1   2   9   8   7   1  76  88]]\n"
          ]
        }
      ],
      "source": [
        "filedata = np.genfromtxt('data.txt', delimiter=',')\n",
        "filedata = filedata.astype('int32')\n",
        "print(filedata)"
      ]
    },
    {
      "cell_type": "markdown",
      "metadata": {
        "id": "bePln-_yvEmN"
      },
      "source": [
        "## Boolean arrays\n",
        "_(Also called masks)_"
      ]
    },
    {
      "cell_type": "code",
      "execution_count": null,
      "metadata": {
        "id": "ZsANSDQwvEmN"
      },
      "outputs": [],
      "source": [
        "a = np.arange(4)"
      ]
    },
    {
      "cell_type": "code",
      "execution_count": null,
      "metadata": {
        "id": "NdwbzFOMvEmN",
        "outputId": "7a21e991-2b5d-43be-c6a7-f53648675a3e"
      },
      "outputs": [
        {
          "data": {
            "text/plain": [
              "array([0, 1, 2, 3])"
            ]
          },
          "execution_count": 83,
          "metadata": {},
          "output_type": "execute_result"
        }
      ],
      "source": [
        "a"
      ]
    },
    {
      "cell_type": "code",
      "execution_count": null,
      "metadata": {
        "id": "cP34D7ARvEmN",
        "outputId": "84725c44-b295-4123-b4e5-262db770bfd0"
      },
      "outputs": [
        {
          "data": {
            "text/plain": [
              "(0, 3)"
            ]
          },
          "execution_count": 85,
          "metadata": {},
          "output_type": "execute_result"
        }
      ],
      "source": [
        "a[0], a[-1]"
      ]
    },
    {
      "cell_type": "code",
      "execution_count": null,
      "metadata": {
        "id": "oMI2j2y7vEmO",
        "outputId": "85449f61-14b2-405d-bfb1-ddef5ba12c0a"
      },
      "outputs": [
        {
          "data": {
            "text/plain": [
              "array([0, 3])"
            ]
          },
          "execution_count": 84,
          "metadata": {},
          "output_type": "execute_result"
        }
      ],
      "source": [
        "a[[0, -1]]"
      ]
    },
    {
      "cell_type": "code",
      "execution_count": null,
      "metadata": {
        "id": "8MYjlJGCvEmO",
        "outputId": "45c40f18-e5ca-4cf2-c86f-796697543832"
      },
      "outputs": [
        {
          "data": {
            "text/plain": [
              "array([0, 3])"
            ]
          },
          "execution_count": 86,
          "metadata": {},
          "output_type": "execute_result"
        }
      ],
      "source": [
        "a[[True, False, False, True]]"
      ]
    },
    {
      "cell_type": "code",
      "execution_count": null,
      "metadata": {
        "id": "k7rKLnI-vEmO",
        "outputId": "d6e8762e-d8d7-4674-8f4a-1ad90ac070b5"
      },
      "outputs": [
        {
          "data": {
            "text/plain": [
              "array([0, 1, 2, 3])"
            ]
          },
          "execution_count": 89,
          "metadata": {},
          "output_type": "execute_result"
        }
      ],
      "source": [
        "a"
      ]
    },
    {
      "cell_type": "code",
      "execution_count": null,
      "metadata": {
        "id": "ZdUgkkPEvEmO",
        "outputId": "36a3d2cb-45f5-41b0-db6e-a98af76a569b"
      },
      "outputs": [
        {
          "data": {
            "text/plain": [
              "array([False, False,  True,  True])"
            ]
          },
          "execution_count": 88,
          "metadata": {},
          "output_type": "execute_result"
        }
      ],
      "source": [
        "a >= 2"
      ]
    },
    {
      "cell_type": "code",
      "execution_count": null,
      "metadata": {
        "id": "iFxtbGB0vEmO",
        "outputId": "c4c2b725-9cd3-47d5-d573-3b4cf702591a"
      },
      "outputs": [
        {
          "data": {
            "text/plain": [
              "array([2, 3])"
            ]
          },
          "execution_count": 90,
          "metadata": {},
          "output_type": "execute_result"
        }
      ],
      "source": [
        "a[a >= 2]"
      ]
    },
    {
      "cell_type": "code",
      "execution_count": null,
      "metadata": {
        "id": "vrQqSpIBvEmP",
        "outputId": "ae25722e-543b-430e-d0a4-1a1f8272edc1"
      },
      "outputs": [
        {
          "data": {
            "text/plain": [
              "1.5"
            ]
          },
          "execution_count": 91,
          "metadata": {},
          "output_type": "execute_result"
        }
      ],
      "source": [
        "a.mean()"
      ]
    },
    {
      "cell_type": "code",
      "execution_count": null,
      "metadata": {
        "scrolled": true,
        "id": "jHSlGN9rvEmP",
        "outputId": "56187e3a-32a5-4281-cc48-25dd338afed2"
      },
      "outputs": [
        {
          "data": {
            "text/plain": [
              "array([2, 3])"
            ]
          },
          "execution_count": 92,
          "metadata": {},
          "output_type": "execute_result"
        }
      ],
      "source": [
        "a[a > a.mean()]"
      ]
    },
    {
      "cell_type": "code",
      "execution_count": null,
      "metadata": {
        "id": "9S6dyx4dvEmP",
        "outputId": "bee8bc12-eb3b-493d-e6ed-23b06f7d28e5"
      },
      "outputs": [
        {
          "data": {
            "text/plain": [
              "array([0, 1])"
            ]
          },
          "execution_count": 93,
          "metadata": {},
          "output_type": "execute_result"
        }
      ],
      "source": [
        "a[~(a > a.mean())]"
      ]
    },
    {
      "cell_type": "code",
      "execution_count": null,
      "metadata": {
        "id": "H5vu8Jr1vEmP",
        "outputId": "59112416-e42d-4a5f-e6b7-ca7213334728"
      },
      "outputs": [
        {
          "data": {
            "text/plain": [
              "array([0, 1])"
            ]
          },
          "execution_count": 94,
          "metadata": {},
          "output_type": "execute_result"
        }
      ],
      "source": [
        "a[(a == 0) | (a == 1)]"
      ]
    },
    {
      "cell_type": "code",
      "execution_count": null,
      "metadata": {
        "id": "1bDzRtz_vEmP",
        "outputId": "1b0d5e21-dc12-4673-f06d-529c410f860c"
      },
      "outputs": [
        {
          "data": {
            "text/plain": [
              "array([0, 2])"
            ]
          },
          "execution_count": 95,
          "metadata": {},
          "output_type": "execute_result"
        }
      ],
      "source": [
        "a[(a <= 2) & (a % 2 == 0)]"
      ]
    },
    {
      "cell_type": "code",
      "execution_count": null,
      "metadata": {
        "id": "EbLcz7B5vEmQ"
      },
      "outputs": [],
      "source": [
        "A = np.random.randint(100, size=(3, 3))"
      ]
    },
    {
      "cell_type": "code",
      "execution_count": null,
      "metadata": {
        "id": "U9BBKScSvEmQ",
        "outputId": "4503c698-9ca7-4152-bc5b-f37a5ebc3f93"
      },
      "outputs": [
        {
          "data": {
            "text/plain": [
              "array([[71,  6, 42],\n",
              "       [40, 94, 24],\n",
              "       [ 2, 85, 36]])"
            ]
          },
          "execution_count": 97,
          "metadata": {},
          "output_type": "execute_result"
        }
      ],
      "source": [
        "A"
      ]
    },
    {
      "cell_type": "code",
      "execution_count": null,
      "metadata": {
        "id": "-1ly3_kGvEmQ",
        "outputId": "353f5f6b-dea4-4197-9441-b757ade52609"
      },
      "outputs": [
        {
          "data": {
            "text/plain": [
              "array([71, 42, 94,  2, 36])"
            ]
          },
          "execution_count": 98,
          "metadata": {},
          "output_type": "execute_result"
        }
      ],
      "source": [
        "A[np.array([\n",
        "    [True, False, True],\n",
        "    [False, True, False],\n",
        "    [True, False, True]\n",
        "])]"
      ]
    },
    {
      "cell_type": "code",
      "execution_count": null,
      "metadata": {
        "id": "WeG-773pvEmQ",
        "outputId": "d67d24ff-7169-4999-8319-17b0d3a9410a"
      },
      "outputs": [
        {
          "data": {
            "text/plain": [
              "array([[ True, False,  True],\n",
              "       [ True,  True, False],\n",
              "       [False,  True,  True]])"
            ]
          },
          "execution_count": 99,
          "metadata": {},
          "output_type": "execute_result"
        }
      ],
      "source": [
        "A > 30"
      ]
    },
    {
      "cell_type": "code",
      "execution_count": null,
      "metadata": {
        "id": "ecz1CrYSvEmQ",
        "outputId": "110bce34-7159-4fae-b1f4-121841c5e1a3"
      },
      "outputs": [
        {
          "data": {
            "text/plain": [
              "array([71, 42, 40, 94, 85, 36])"
            ]
          },
          "execution_count": 100,
          "metadata": {},
          "output_type": "execute_result"
        }
      ],
      "source": [
        "A[A > 30]"
      ]
    },
    {
      "cell_type": "code",
      "execution_count": null,
      "metadata": {
        "id": "fmZpI6OuCjAZ",
        "outputId": "d6cc9131-6885-4cb8-ed71-00f8a5e39e9c",
        "colab": {
          "base_uri": "https://localhost:8080/"
        }
      },
      "outputs": [
        {
          "output_type": "execute_result",
          "data": {
            "text/plain": [
              "array([[ True,  True,  True,  True,  True, False,  True,  True,  True,\n",
              "         True,  True,  True,  True,  True,  True,  True,  True,  True],\n",
              "       [ True,  True,  True,  True,  True, False,  True, False,  True,\n",
              "         True,  True,  True,  True,  True,  True,  True,  True,  True],\n",
              "       [ True,  True,  True,  True,  True,  True,  True,  True, False,\n",
              "         True,  True,  True,  True,  True,  True,  True, False, False]])"
            ]
          },
          "metadata": {},
          "execution_count": 35
        }
      ],
      "source": [
        "(~((filedata > 50) & (filedata < 100)))"
      ]
    },
    {
      "cell_type": "code",
      "source": [
        "filedata = np.genfromtxt('data.txt', delimiter=',')\n",
        "output = filedata[filedata > 50]\n",
        "\n",
        "print(output)"
      ],
      "metadata": {
        "colab": {
          "base_uri": "https://localhost:8080/"
        },
        "id": "VwpitHyCXBBG",
        "outputId": "215da7cb-2536-47ec-d0bc-daf363d6975d"
      },
      "execution_count": null,
      "outputs": [
        {
          "output_type": "stream",
          "name": "stdout",
          "text": [
            "[196.  75. 766.  75.  55. 999.  78.  76.  88.]\n"
          ]
        }
      ]
    },
    {
      "cell_type": "markdown",
      "metadata": {
        "id": "lHwDneoQvEmT"
      },
      "source": [
        "![green-divider](https://user-images.githubusercontent.com/7065401/52071924-c003ad80-2562-11e9-8297-1c6595f8a7ff.png)\n",
        "\n",
        "## Useful Numpy functions"
      ]
    },
    {
      "cell_type": "markdown",
      "metadata": {
        "id": "70SDdB6GvEmT"
      },
      "source": [
        "### `random`"
      ]
    },
    {
      "cell_type": "code",
      "execution_count": null,
      "metadata": {
        "id": "actKlsHPvEmT"
      },
      "outputs": [],
      "source": [
        "np.random.random(size=2)"
      ]
    },
    {
      "cell_type": "code",
      "execution_count": null,
      "metadata": {
        "id": "DlI45sYFvEmU"
      },
      "outputs": [],
      "source": [
        "np.random.normal(size=2)"
      ]
    },
    {
      "cell_type": "code",
      "execution_count": null,
      "metadata": {
        "id": "xxeJhTeavEmU"
      },
      "outputs": [],
      "source": [
        "np.random.rand(2, 4)"
      ]
    },
    {
      "cell_type": "markdown",
      "metadata": {
        "id": "81v6VsdJvEmU"
      },
      "source": [
        "---\n",
        "### `arange`"
      ]
    },
    {
      "cell_type": "code",
      "execution_count": null,
      "metadata": {
        "id": "B7tlNmBqvEmU"
      },
      "outputs": [],
      "source": [
        "np.arange(10)"
      ]
    },
    {
      "cell_type": "code",
      "execution_count": null,
      "metadata": {
        "id": "M3BfAvZFvEmU"
      },
      "outputs": [],
      "source": [
        "np.arange(5, 10)"
      ]
    },
    {
      "cell_type": "code",
      "execution_count": null,
      "metadata": {
        "id": "um9TEQ9EvEmV"
      },
      "outputs": [],
      "source": [
        "np.arange(0, 1, .1)"
      ]
    },
    {
      "cell_type": "markdown",
      "metadata": {
        "id": "QGZQIejzvEmV"
      },
      "source": [
        "---\n",
        "### `reshape`"
      ]
    },
    {
      "cell_type": "code",
      "execution_count": null,
      "metadata": {
        "id": "CGKSBLN9vEmV"
      },
      "outputs": [],
      "source": [
        "np.arange(10).reshape(2, 5)"
      ]
    },
    {
      "cell_type": "code",
      "execution_count": null,
      "metadata": {
        "id": "AvGzJHeNvEmV"
      },
      "outputs": [],
      "source": [
        "np.arange(10).reshape(5, 2)"
      ]
    },
    {
      "cell_type": "markdown",
      "metadata": {
        "id": "492Yv6xCvEmV"
      },
      "source": [
        "---\n",
        "### `linspace`"
      ]
    },
    {
      "cell_type": "code",
      "execution_count": null,
      "metadata": {
        "id": "7EAX79b_vEmV"
      },
      "outputs": [],
      "source": [
        "np.linspace(0, 1, 5)"
      ]
    },
    {
      "cell_type": "code",
      "execution_count": null,
      "metadata": {
        "id": "fXJemFPsvEmV"
      },
      "outputs": [],
      "source": [
        "np.linspace(0, 1, 20)"
      ]
    },
    {
      "cell_type": "code",
      "execution_count": null,
      "metadata": {
        "scrolled": true,
        "id": "4KgGDtIpvEmW"
      },
      "outputs": [],
      "source": [
        "np.linspace(0, 1, 20, False)"
      ]
    },
    {
      "cell_type": "markdown",
      "metadata": {
        "id": "Kih6sBcTvEmW"
      },
      "source": [
        "---\n",
        "### `zeros`, `ones`, `empty`"
      ]
    },
    {
      "cell_type": "code",
      "execution_count": null,
      "metadata": {
        "id": "VGm0VxSfvEmW"
      },
      "outputs": [],
      "source": [
        "np.zeros(5)"
      ]
    },
    {
      "cell_type": "code",
      "execution_count": null,
      "metadata": {
        "scrolled": true,
        "id": "g43poj3svEmW"
      },
      "outputs": [],
      "source": [
        "np.zeros((3, 3))"
      ]
    },
    {
      "cell_type": "code",
      "execution_count": null,
      "metadata": {
        "scrolled": true,
        "id": "M7NKKjA3vEmW"
      },
      "outputs": [],
      "source": [
        "np.zeros((3, 3), dtype=np.int)"
      ]
    },
    {
      "cell_type": "code",
      "execution_count": null,
      "metadata": {
        "id": "LT98TwRVvEmW"
      },
      "outputs": [],
      "source": [
        "np.ones(5)"
      ]
    },
    {
      "cell_type": "code",
      "execution_count": null,
      "metadata": {
        "id": "t5gKBDvCvEmW"
      },
      "outputs": [],
      "source": [
        "np.ones((3, 3))"
      ]
    },
    {
      "cell_type": "code",
      "execution_count": null,
      "metadata": {
        "id": "Ju7_yKHnvEmW"
      },
      "outputs": [],
      "source": [
        "np.empty(5)"
      ]
    },
    {
      "cell_type": "code",
      "execution_count": null,
      "metadata": {
        "scrolled": true,
        "id": "oltQIRSnvEmW"
      },
      "outputs": [],
      "source": [
        "np.empty((2, 2))"
      ]
    },
    {
      "cell_type": "markdown",
      "metadata": {
        "id": "REX6dthDvEmW"
      },
      "source": [
        "---\n",
        "### `identity` and `eye`"
      ]
    },
    {
      "cell_type": "code",
      "execution_count": null,
      "metadata": {
        "id": "hIbwC57CvEmW"
      },
      "outputs": [],
      "source": [
        "np.identity(3)"
      ]
    },
    {
      "cell_type": "code",
      "execution_count": null,
      "metadata": {
        "id": "rZQpT7SsvEmX"
      },
      "outputs": [],
      "source": [
        "np.eye(3, 3)"
      ]
    },
    {
      "cell_type": "code",
      "execution_count": null,
      "metadata": {
        "id": "IgKbrm4BvEmX"
      },
      "outputs": [],
      "source": [
        "np.eye(8, 4)"
      ]
    },
    {
      "cell_type": "code",
      "execution_count": null,
      "metadata": {
        "scrolled": true,
        "id": "5AzHFbxNvEmX"
      },
      "outputs": [],
      "source": [
        "np.eye(8, 4, k=1)"
      ]
    },
    {
      "cell_type": "code",
      "execution_count": null,
      "metadata": {
        "id": "mGCiAgSuvEmX"
      },
      "outputs": [],
      "source": [
        "np.eye(8, 4, k=-3)"
      ]
    },
    {
      "cell_type": "code",
      "execution_count": null,
      "metadata": {
        "scrolled": true,
        "id": "6z-d5uDivEmX"
      },
      "outputs": [],
      "source": [
        "\"Hello World\"[6]"
      ]
    },
    {
      "cell_type": "markdown",
      "source": [
        "![image.png](data:image/png;base64,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)"
      ],
      "metadata": {
        "id": "IFCEb0OiibTJ"
      }
    }
  ]
}