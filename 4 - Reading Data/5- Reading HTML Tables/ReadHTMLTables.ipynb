{
  "cells": [
    {
      "cell_type": "markdown",
      "metadata": {
        "id": "bMcf_x_xnvS4"
      },
      "source": [
        "# Reading HTML tables\n",
        "\n",
        "In this lecture we'll learn how to read and parse HTML tables from websites into a list of `DataFrame` objects to work with."
      ]
    },
    {
      "cell_type": "code",
      "execution_count": null,
      "metadata": {
        "id": "Dq4HcPj3nvS6",
        "outputId": "304ce089-09ff-4bfc-ca87-0856ea979ec8"
      },
      "outputs": [
        {
          "name": "stdout",
          "output_type": "stream",
          "text": [
            "Requirement already satisfied: lxml in /Users/mati/.virtualenvs/jupyter-ext/lib/python3.6/site-packages (4.4.1)\r\n"
          ]
        }
      ],
      "source": [
        "!pip install lxml"
      ]
    },
    {
      "cell_type": "code",
      "execution_count": null,
      "metadata": {
        "id": "LUPZLBcdnvS8"
      },
      "outputs": [],
      "source": [
        "import pandas as pd"
      ]
    },
    {
      "cell_type": "markdown",
      "metadata": {
        "id": "9VUB2ZYonvS8"
      },
      "source": [
        "![green-divider](https://user-images.githubusercontent.com/7065401/52071924-c003ad80-2562-11e9-8297-1c6595f8a7ff.png)\n",
        "\n",
        "## Parsing raw HTML strings\n",
        "\n",
        "Another useful pandas method is `read_html()`. This method will read HTML tables from a given URL, a file-like object, or a raw string containing HTML, and return a list of `DataFrame` objects.\n",
        "\n",
        "Let's try to read the following `html_string` into a `DataFrame`."
      ]
    },
    {
      "cell_type": "code",
      "execution_count": null,
      "metadata": {
        "id": "CBaZWVyZnvS9"
      },
      "outputs": [],
      "source": [
        "html_string = \"\"\"\n",
        "<table>\n",
        "    <thead>\n",
        "      <tr>\n",
        "        <th>Order date</th>\n",
        "        <th>Region</th>\n",
        "        <th>Item</th>\n",
        "        <th>Units</th>\n",
        "        <th>Unit cost</th>\n",
        "      </tr>\n",
        "    </thead>\n",
        "    <tbody>\n",
        "      <tr>\n",
        "        <td>1/6/2018</td>\n",
        "        <td>East</td>\n",
        "        <td>Pencil</td>\n",
        "        <td>95</td>\n",
        "        <td>1.99</td>\n",
        "      </tr>\n",
        "      <tr>\n",
        "        <td>1/23/2018</td>\n",
        "        <td>Central</td>\n",
        "        <td>Binder</td>\n",
        "        <td>50</td>\n",
        "        <td>19.99</td>\n",
        "      </tr>\n",
        "      <tr>\n",
        "        <td>2/9/2018</td>\n",
        "        <td>Central</td>\n",
        "        <td>Pencil</td>\n",
        "        <td>36</td>\n",
        "        <td>4.99</td>\n",
        "      </tr>\n",
        "      <tr>\n",
        "        <td>3/15/2018</td>\n",
        "        <td>West</td>\n",
        "        <td>Pen</td>\n",
        "        <td>27</td>\n",
        "        <td>19.99</td>\n",
        "      </tr>\n",
        "    </tbody>\n",
        "</table>\n",
        "\"\"\""
      ]
    },
    {
      "cell_type": "code",
      "execution_count": null,
      "metadata": {
        "scrolled": true,
        "id": "q-axOzshnvS9"
      },
      "outputs": [],
      "source": [
        "dfs = pd.read_html(html_string)"
      ]
    },
    {
      "cell_type": "markdown",
      "metadata": {
        "id": "Jter7xxrnvS9"
      },
      "source": [
        "The `read_html` just returned one `DataFrame` object:"
      ]
    },
    {
      "cell_type": "code",
      "execution_count": null,
      "metadata": {
        "id": "X-dyBkCDnvS-",
        "outputId": "45a52a8a-1bff-470b-aa44-4cc5f0baa0c5"
      },
      "outputs": [
        {
          "data": {
            "text/plain": [
              "1"
            ]
          },
          "execution_count": 4,
          "metadata": {},
          "output_type": "execute_result"
        }
      ],
      "source": [
        "len(dfs)"
      ]
    },
    {
      "cell_type": "code",
      "execution_count": null,
      "metadata": {
        "id": "J_NEZoA3nvS-",
        "outputId": "911a0db3-f2ef-44f7-b347-fe35a523ae84"
      },
      "outputs": [
        {
          "data": {
            "text/html": [
              "<div>\n",
              "<style scoped>\n",
              "    .dataframe tbody tr th:only-of-type {\n",
              "        vertical-align: middle;\n",
              "    }\n",
              "\n",
              "    .dataframe tbody tr th {\n",
              "        vertical-align: top;\n",
              "    }\n",
              "\n",
              "    .dataframe thead th {\n",
              "        text-align: right;\n",
              "    }\n",
              "</style>\n",
              "<table border=\"1\" class=\"dataframe\">\n",
              "  <thead>\n",
              "    <tr style=\"text-align: right;\">\n",
              "      <th></th>\n",
              "      <th>Order date</th>\n",
              "      <th>Region</th>\n",
              "      <th>Item</th>\n",
              "      <th>Units</th>\n",
              "      <th>Unit cost</th>\n",
              "    </tr>\n",
              "  </thead>\n",
              "  <tbody>\n",
              "    <tr>\n",
              "      <th>0</th>\n",
              "      <td>1/6/2018</td>\n",
              "      <td>East</td>\n",
              "      <td>Pencil</td>\n",
              "      <td>95</td>\n",
              "      <td>1.99</td>\n",
              "    </tr>\n",
              "    <tr>\n",
              "      <th>1</th>\n",
              "      <td>1/23/2018</td>\n",
              "      <td>Central</td>\n",
              "      <td>Binder</td>\n",
              "      <td>50</td>\n",
              "      <td>19.99</td>\n",
              "    </tr>\n",
              "    <tr>\n",
              "      <th>2</th>\n",
              "      <td>2/9/2018</td>\n",
              "      <td>Central</td>\n",
              "      <td>Pencil</td>\n",
              "      <td>36</td>\n",
              "      <td>4.99</td>\n",
              "    </tr>\n",
              "    <tr>\n",
              "      <th>3</th>\n",
              "      <td>3/15/2018</td>\n",
              "      <td>West</td>\n",
              "      <td>Pen</td>\n",
              "      <td>27</td>\n",
              "      <td>19.99</td>\n",
              "    </tr>\n",
              "  </tbody>\n",
              "</table>\n",
              "</div>"
            ],
            "text/plain": [
              "  Order date   Region    Item  Units  Unit cost\n",
              "0   1/6/2018     East  Pencil     95       1.99\n",
              "1  1/23/2018  Central  Binder     50      19.99\n",
              "2   2/9/2018  Central  Pencil     36       4.99\n",
              "3  3/15/2018     West     Pen     27      19.99"
            ]
          },
          "execution_count": 5,
          "metadata": {},
          "output_type": "execute_result"
        }
      ],
      "source": [
        "df = dfs[0]\n",
        "\n",
        "df"
      ]
    },
    {
      "cell_type": "markdown",
      "metadata": {
        "id": "wXcPKB-jnvS-"
      },
      "source": [
        "Previous `DataFrame` looks quite similar to the raw HTML table, but now we have a `DataFrame` object, so we can apply any pandas operation we want to it."
      ]
    },
    {
      "cell_type": "code",
      "execution_count": null,
      "metadata": {
        "id": "KTRKHsxFnvS-",
        "outputId": "e5ca3dfc-e1bd-4672-924a-4199a0471f9b"
      },
      "outputs": [
        {
          "data": {
            "text/plain": [
              "(4, 5)"
            ]
          },
          "execution_count": 7,
          "metadata": {},
          "output_type": "execute_result"
        }
      ],
      "source": [
        "df.shape"
      ]
    },
    {
      "cell_type": "code",
      "execution_count": null,
      "metadata": {
        "id": "nwGz3XcwnvS_",
        "outputId": "063294b7-cbbd-42e2-d94f-fc206864cd5f"
      },
      "outputs": [
        {
          "data": {
            "text/html": [
              "<div>\n",
              "<style scoped>\n",
              "    .dataframe tbody tr th:only-of-type {\n",
              "        vertical-align: middle;\n",
              "    }\n",
              "\n",
              "    .dataframe tbody tr th {\n",
              "        vertical-align: top;\n",
              "    }\n",
              "\n",
              "    .dataframe thead th {\n",
              "        text-align: right;\n",
              "    }\n",
              "</style>\n",
              "<table border=\"1\" class=\"dataframe\">\n",
              "  <thead>\n",
              "    <tr style=\"text-align: right;\">\n",
              "      <th></th>\n",
              "      <th>Order date</th>\n",
              "      <th>Region</th>\n",
              "      <th>Item</th>\n",
              "      <th>Units</th>\n",
              "      <th>Unit cost</th>\n",
              "    </tr>\n",
              "  </thead>\n",
              "  <tbody>\n",
              "    <tr>\n",
              "      <th>1</th>\n",
              "      <td>1/23/2018</td>\n",
              "      <td>Central</td>\n",
              "      <td>Binder</td>\n",
              "      <td>50</td>\n",
              "      <td>19.99</td>\n",
              "    </tr>\n",
              "    <tr>\n",
              "      <th>2</th>\n",
              "      <td>2/9/2018</td>\n",
              "      <td>Central</td>\n",
              "      <td>Pencil</td>\n",
              "      <td>36</td>\n",
              "      <td>4.99</td>\n",
              "    </tr>\n",
              "  </tbody>\n",
              "</table>\n",
              "</div>"
            ],
            "text/plain": [
              "  Order date   Region    Item  Units  Unit cost\n",
              "1  1/23/2018  Central  Binder     50      19.99\n",
              "2   2/9/2018  Central  Pencil     36       4.99"
            ]
          },
          "execution_count": 8,
          "metadata": {},
          "output_type": "execute_result"
        }
      ],
      "source": [
        "df.loc[df['Region'] == 'Central']"
      ]
    },
    {
      "cell_type": "code",
      "execution_count": null,
      "metadata": {
        "id": "1CuhsGuVnvS_",
        "outputId": "1dda65d1-a515-492a-913c-945ef853e7cd"
      },
      "outputs": [
        {
          "data": {
            "text/html": [
              "<div>\n",
              "<style scoped>\n",
              "    .dataframe tbody tr th:only-of-type {\n",
              "        vertical-align: middle;\n",
              "    }\n",
              "\n",
              "    .dataframe tbody tr th {\n",
              "        vertical-align: top;\n",
              "    }\n",
              "\n",
              "    .dataframe thead th {\n",
              "        text-align: right;\n",
              "    }\n",
              "</style>\n",
              "<table border=\"1\" class=\"dataframe\">\n",
              "  <thead>\n",
              "    <tr style=\"text-align: right;\">\n",
              "      <th></th>\n",
              "      <th>Order date</th>\n",
              "      <th>Region</th>\n",
              "      <th>Item</th>\n",
              "      <th>Units</th>\n",
              "      <th>Unit cost</th>\n",
              "    </tr>\n",
              "  </thead>\n",
              "  <tbody>\n",
              "    <tr>\n",
              "      <th>0</th>\n",
              "      <td>1/6/2018</td>\n",
              "      <td>East</td>\n",
              "      <td>Pencil</td>\n",
              "      <td>95</td>\n",
              "      <td>1.99</td>\n",
              "    </tr>\n",
              "    <tr>\n",
              "      <th>1</th>\n",
              "      <td>1/23/2018</td>\n",
              "      <td>Central</td>\n",
              "      <td>Binder</td>\n",
              "      <td>50</td>\n",
              "      <td>19.99</td>\n",
              "    </tr>\n",
              "    <tr>\n",
              "      <th>2</th>\n",
              "      <td>2/9/2018</td>\n",
              "      <td>Central</td>\n",
              "      <td>Pencil</td>\n",
              "      <td>36</td>\n",
              "      <td>4.99</td>\n",
              "    </tr>\n",
              "  </tbody>\n",
              "</table>\n",
              "</div>"
            ],
            "text/plain": [
              "  Order date   Region    Item  Units  Unit cost\n",
              "0   1/6/2018     East  Pencil     95       1.99\n",
              "1  1/23/2018  Central  Binder     50      19.99\n",
              "2   2/9/2018  Central  Pencil     36       4.99"
            ]
          },
          "execution_count": 9,
          "metadata": {},
          "output_type": "execute_result"
        }
      ],
      "source": [
        "df.loc[df['Units'] > 35]"
      ]
    },
    {
      "cell_type": "markdown",
      "metadata": {
        "id": "t_fI6_3unvS_"
      },
      "source": [
        "### Defining header\n",
        "\n",
        "Pandas will automatically find the header to use thanks to the <thead> tag.\n",
        "    \n",
        "But in many cases we'll find wrong or incomplete tables that make the `read_html` method parse the tables in a wrong way without the proper headers.\n",
        "\n",
        "To fix them we can use the `header` parameter."
      ]
    },
    {
      "cell_type": "code",
      "execution_count": null,
      "metadata": {
        "id": "Mle3Y7KBnvS_"
      },
      "outputs": [],
      "source": [
        "html_string = \"\"\"\n",
        "<table>\n",
        "  <tr>\n",
        "    <td>Order date</td>\n",
        "    <td>Region</td>\n",
        "    <td>Item</td>\n",
        "    <td>Units</td>\n",
        "    <td>Unit cost</td>\n",
        "  </tr>\n",
        "  <tr>\n",
        "    <td>1/6/2018</td>\n",
        "    <td>East</td>\n",
        "    <td>Pencil</td>\n",
        "    <td>95</td>\n",
        "    <td>1.99</td>\n",
        "  </tr>\n",
        "  <tr>\n",
        "    <td>1/23/2018</td>\n",
        "    <td>Central</td>\n",
        "    <td>Binder</td>\n",
        "    <td>50</td>\n",
        "    <td>19.99</td>\n",
        "  </tr>\n",
        "  <tr>\n",
        "    <td>2/9/2018</td>\n",
        "    <td>Central</td>\n",
        "    <td>Pencil</td>\n",
        "    <td>36</td>\n",
        "    <td>4.99</td>\n",
        "  </tr>\n",
        "  <tr>\n",
        "    <td>3/15/2018</td>\n",
        "    <td>West</td>\n",
        "    <td>Pen</td>\n",
        "    <td>27</td>\n",
        "    <td>19.99</td>\n",
        "  </tr>\n",
        "</table>\n",
        "\"\"\""
      ]
    },
    {
      "cell_type": "code",
      "execution_count": null,
      "metadata": {
        "id": "GFWSHahdnvTA",
        "outputId": "6d444505-2a1e-4f57-ce1e-70a71092715b"
      },
      "outputs": [
        {
          "data": {
            "text/html": [
              "<div>\n",
              "<style scoped>\n",
              "    .dataframe tbody tr th:only-of-type {\n",
              "        vertical-align: middle;\n",
              "    }\n",
              "\n",
              "    .dataframe tbody tr th {\n",
              "        vertical-align: top;\n",
              "    }\n",
              "\n",
              "    .dataframe thead th {\n",
              "        text-align: right;\n",
              "    }\n",
              "</style>\n",
              "<table border=\"1\" class=\"dataframe\">\n",
              "  <thead>\n",
              "    <tr style=\"text-align: right;\">\n",
              "      <th></th>\n",
              "      <th>0</th>\n",
              "      <th>1</th>\n",
              "      <th>2</th>\n",
              "      <th>3</th>\n",
              "      <th>4</th>\n",
              "    </tr>\n",
              "  </thead>\n",
              "  <tbody>\n",
              "    <tr>\n",
              "      <th>0</th>\n",
              "      <td>Order date</td>\n",
              "      <td>Region</td>\n",
              "      <td>Item</td>\n",
              "      <td>Units</td>\n",
              "      <td>Unit cost</td>\n",
              "    </tr>\n",
              "    <tr>\n",
              "      <th>1</th>\n",
              "      <td>1/6/2018</td>\n",
              "      <td>East</td>\n",
              "      <td>Pencil</td>\n",
              "      <td>95</td>\n",
              "      <td>1.99</td>\n",
              "    </tr>\n",
              "    <tr>\n",
              "      <th>2</th>\n",
              "      <td>1/23/2018</td>\n",
              "      <td>Central</td>\n",
              "      <td>Binder</td>\n",
              "      <td>50</td>\n",
              "      <td>19.99</td>\n",
              "    </tr>\n",
              "    <tr>\n",
              "      <th>3</th>\n",
              "      <td>2/9/2018</td>\n",
              "      <td>Central</td>\n",
              "      <td>Pencil</td>\n",
              "      <td>36</td>\n",
              "      <td>4.99</td>\n",
              "    </tr>\n",
              "    <tr>\n",
              "      <th>4</th>\n",
              "      <td>3/15/2018</td>\n",
              "      <td>West</td>\n",
              "      <td>Pen</td>\n",
              "      <td>27</td>\n",
              "      <td>19.99</td>\n",
              "    </tr>\n",
              "  </tbody>\n",
              "</table>\n",
              "</div>"
            ],
            "text/plain": [
              "            0        1       2      3          4\n",
              "0  Order date   Region    Item  Units  Unit cost\n",
              "1    1/6/2018     East  Pencil     95       1.99\n",
              "2   1/23/2018  Central  Binder     50      19.99\n",
              "3    2/9/2018  Central  Pencil     36       4.99\n",
              "4   3/15/2018     West     Pen     27      19.99"
            ]
          },
          "execution_count": 7,
          "metadata": {},
          "output_type": "execute_result"
        }
      ],
      "source": [
        "pd.read_html(html_string)[0]"
      ]
    },
    {
      "cell_type": "markdown",
      "metadata": {
        "id": "i5OKysxOnvTA"
      },
      "source": [
        "In this case, we'll need to pass the row number to use as header using the `header` parameter."
      ]
    },
    {
      "cell_type": "code",
      "execution_count": null,
      "metadata": {
        "id": "91jime4_nvTA",
        "outputId": "f0b327ab-809e-46d5-a676-3bb1cc7c1ee8"
      },
      "outputs": [
        {
          "data": {
            "text/html": [
              "<div>\n",
              "<style scoped>\n",
              "    .dataframe tbody tr th:only-of-type {\n",
              "        vertical-align: middle;\n",
              "    }\n",
              "\n",
              "    .dataframe tbody tr th {\n",
              "        vertical-align: top;\n",
              "    }\n",
              "\n",
              "    .dataframe thead th {\n",
              "        text-align: right;\n",
              "    }\n",
              "</style>\n",
              "<table border=\"1\" class=\"dataframe\">\n",
              "  <thead>\n",
              "    <tr style=\"text-align: right;\">\n",
              "      <th></th>\n",
              "      <th>Order date</th>\n",
              "      <th>Region</th>\n",
              "      <th>Item</th>\n",
              "      <th>Units</th>\n",
              "      <th>Unit cost</th>\n",
              "    </tr>\n",
              "  </thead>\n",
              "  <tbody>\n",
              "    <tr>\n",
              "      <th>0</th>\n",
              "      <td>1/6/2018</td>\n",
              "      <td>East</td>\n",
              "      <td>Pencil</td>\n",
              "      <td>95</td>\n",
              "      <td>1.99</td>\n",
              "    </tr>\n",
              "    <tr>\n",
              "      <th>1</th>\n",
              "      <td>1/23/2018</td>\n",
              "      <td>Central</td>\n",
              "      <td>Binder</td>\n",
              "      <td>50</td>\n",
              "      <td>19.99</td>\n",
              "    </tr>\n",
              "    <tr>\n",
              "      <th>2</th>\n",
              "      <td>2/9/2018</td>\n",
              "      <td>Central</td>\n",
              "      <td>Pencil</td>\n",
              "      <td>36</td>\n",
              "      <td>4.99</td>\n",
              "    </tr>\n",
              "    <tr>\n",
              "      <th>3</th>\n",
              "      <td>3/15/2018</td>\n",
              "      <td>West</td>\n",
              "      <td>Pen</td>\n",
              "      <td>27</td>\n",
              "      <td>19.99</td>\n",
              "    </tr>\n",
              "  </tbody>\n",
              "</table>\n",
              "</div>"
            ],
            "text/plain": [
              "  Order date   Region    Item  Units  Unit cost\n",
              "0   1/6/2018     East  Pencil     95       1.99\n",
              "1  1/23/2018  Central  Binder     50      19.99\n",
              "2   2/9/2018  Central  Pencil     36       4.99\n",
              "3  3/15/2018     West     Pen     27      19.99"
            ]
          },
          "execution_count": 12,
          "metadata": {},
          "output_type": "execute_result"
        }
      ],
      "source": [
        "pd.read_html(html_string, header=0)[0]"
      ]
    },
    {
      "cell_type": "markdown",
      "metadata": {
        "id": "GBsQAGJtnvTA"
      },
      "source": [
        "![green-divider](https://user-images.githubusercontent.com/7065401/52071924-c003ad80-2562-11e9-8297-1c6595f8a7ff.png)\n",
        "\n",
        "## Parsing HTML tables from the web\n",
        "\n",
        "Now that we know how `read_html` works, go one step beyond and try to parse HTML tables directly from an URL.\n",
        "\n",
        "To do that we'll call the `read_html` method with an URL as paramter."
      ]
    },
    {
      "cell_type": "markdown",
      "metadata": {
        "id": "ido0SqPdnvTA"
      },
      "source": [
        "### Simple example"
      ]
    },
    {
      "cell_type": "code",
      "execution_count": null,
      "metadata": {
        "id": "JMXN0P0knvTA"
      },
      "outputs": [],
      "source": [
        "html_url = \"https://www.basketball-reference.com/leagues/NBA_2019_per_game.html\""
      ]
    },
    {
      "cell_type": "code",
      "execution_count": null,
      "metadata": {
        "id": "d5R5i3wPnvTB"
      },
      "outputs": [],
      "source": [
        "nba_tables = pd.read_html(html_url)"
      ]
    },
    {
      "cell_type": "code",
      "execution_count": null,
      "metadata": {
        "id": "7MMVUnainvTB",
        "outputId": "5c17a708-b74e-477f-8e15-85f98664c9a2"
      },
      "outputs": [
        {
          "data": {
            "text/plain": [
              "1"
            ]
          },
          "execution_count": 10,
          "metadata": {},
          "output_type": "execute_result"
        }
      ],
      "source": [
        "len(nba_tables)"
      ]
    },
    {
      "cell_type": "markdown",
      "metadata": {
        "id": "l8J6HyySnvTB"
      },
      "source": [
        "We'll work with the only one table found:"
      ]
    },
    {
      "cell_type": "code",
      "execution_count": null,
      "metadata": {
        "id": "5wwQpIK_nvTB"
      },
      "outputs": [],
      "source": [
        "nba = nba_tables[0]"
      ]
    },
    {
      "cell_type": "code",
      "execution_count": null,
      "metadata": {
        "id": "RlFZ3M4SnvTB",
        "outputId": "ad63341c-7679-4cf1-f9b3-3f49903b88ac"
      },
      "outputs": [
        {
          "data": {
            "text/html": [
              "<div>\n",
              "<style scoped>\n",
              "    .dataframe tbody tr th:only-of-type {\n",
              "        vertical-align: middle;\n",
              "    }\n",
              "\n",
              "    .dataframe tbody tr th {\n",
              "        vertical-align: top;\n",
              "    }\n",
              "\n",
              "    .dataframe thead th {\n",
              "        text-align: right;\n",
              "    }\n",
              "</style>\n",
              "<table border=\"1\" class=\"dataframe\">\n",
              "  <thead>\n",
              "    <tr style=\"text-align: right;\">\n",
              "      <th></th>\n",
              "      <th>Rk</th>\n",
              "      <th>Player</th>\n",
              "      <th>Pos</th>\n",
              "      <th>Age</th>\n",
              "      <th>Tm</th>\n",
              "      <th>G</th>\n",
              "      <th>GS</th>\n",
              "      <th>MP</th>\n",
              "      <th>FG</th>\n",
              "      <th>FGA</th>\n",
              "      <th>...</th>\n",
              "      <th>FT%</th>\n",
              "      <th>ORB</th>\n",
              "      <th>DRB</th>\n",
              "      <th>TRB</th>\n",
              "      <th>AST</th>\n",
              "      <th>STL</th>\n",
              "      <th>BLK</th>\n",
              "      <th>TOV</th>\n",
              "      <th>PF</th>\n",
              "      <th>PTS</th>\n",
              "    </tr>\n",
              "  </thead>\n",
              "  <tbody>\n",
              "    <tr>\n",
              "      <th>0</th>\n",
              "      <td>1</td>\n",
              "      <td>Álex Abrines</td>\n",
              "      <td>SG</td>\n",
              "      <td>25</td>\n",
              "      <td>OKC</td>\n",
              "      <td>31</td>\n",
              "      <td>2</td>\n",
              "      <td>19.0</td>\n",
              "      <td>1.8</td>\n",
              "      <td>5.1</td>\n",
              "      <td>...</td>\n",
              "      <td>.923</td>\n",
              "      <td>0.2</td>\n",
              "      <td>1.4</td>\n",
              "      <td>1.5</td>\n",
              "      <td>0.6</td>\n",
              "      <td>0.5</td>\n",
              "      <td>0.2</td>\n",
              "      <td>0.5</td>\n",
              "      <td>1.7</td>\n",
              "      <td>5.3</td>\n",
              "    </tr>\n",
              "    <tr>\n",
              "      <th>1</th>\n",
              "      <td>2</td>\n",
              "      <td>Quincy Acy</td>\n",
              "      <td>PF</td>\n",
              "      <td>28</td>\n",
              "      <td>PHO</td>\n",
              "      <td>10</td>\n",
              "      <td>0</td>\n",
              "      <td>12.3</td>\n",
              "      <td>0.4</td>\n",
              "      <td>1.8</td>\n",
              "      <td>...</td>\n",
              "      <td>.700</td>\n",
              "      <td>0.3</td>\n",
              "      <td>2.2</td>\n",
              "      <td>2.5</td>\n",
              "      <td>0.8</td>\n",
              "      <td>0.1</td>\n",
              "      <td>0.4</td>\n",
              "      <td>0.4</td>\n",
              "      <td>2.4</td>\n",
              "      <td>1.7</td>\n",
              "    </tr>\n",
              "    <tr>\n",
              "      <th>2</th>\n",
              "      <td>3</td>\n",
              "      <td>Jaylen Adams</td>\n",
              "      <td>PG</td>\n",
              "      <td>22</td>\n",
              "      <td>ATL</td>\n",
              "      <td>34</td>\n",
              "      <td>1</td>\n",
              "      <td>12.6</td>\n",
              "      <td>1.1</td>\n",
              "      <td>3.2</td>\n",
              "      <td>...</td>\n",
              "      <td>.778</td>\n",
              "      <td>0.3</td>\n",
              "      <td>1.4</td>\n",
              "      <td>1.8</td>\n",
              "      <td>1.9</td>\n",
              "      <td>0.4</td>\n",
              "      <td>0.1</td>\n",
              "      <td>0.8</td>\n",
              "      <td>1.3</td>\n",
              "      <td>3.2</td>\n",
              "    </tr>\n",
              "    <tr>\n",
              "      <th>3</th>\n",
              "      <td>4</td>\n",
              "      <td>Steven Adams</td>\n",
              "      <td>C</td>\n",
              "      <td>25</td>\n",
              "      <td>OKC</td>\n",
              "      <td>80</td>\n",
              "      <td>80</td>\n",
              "      <td>33.4</td>\n",
              "      <td>6.0</td>\n",
              "      <td>10.1</td>\n",
              "      <td>...</td>\n",
              "      <td>.500</td>\n",
              "      <td>4.9</td>\n",
              "      <td>4.6</td>\n",
              "      <td>9.5</td>\n",
              "      <td>1.6</td>\n",
              "      <td>1.5</td>\n",
              "      <td>1.0</td>\n",
              "      <td>1.7</td>\n",
              "      <td>2.6</td>\n",
              "      <td>13.9</td>\n",
              "    </tr>\n",
              "    <tr>\n",
              "      <th>4</th>\n",
              "      <td>5</td>\n",
              "      <td>Bam Adebayo</td>\n",
              "      <td>C</td>\n",
              "      <td>21</td>\n",
              "      <td>MIA</td>\n",
              "      <td>82</td>\n",
              "      <td>28</td>\n",
              "      <td>23.3</td>\n",
              "      <td>3.4</td>\n",
              "      <td>5.9</td>\n",
              "      <td>...</td>\n",
              "      <td>.735</td>\n",
              "      <td>2.0</td>\n",
              "      <td>5.3</td>\n",
              "      <td>7.3</td>\n",
              "      <td>2.2</td>\n",
              "      <td>0.9</td>\n",
              "      <td>0.8</td>\n",
              "      <td>1.5</td>\n",
              "      <td>2.5</td>\n",
              "      <td>8.9</td>\n",
              "    </tr>\n",
              "  </tbody>\n",
              "</table>\n",
              "<p>5 rows × 30 columns</p>\n",
              "</div>"
            ],
            "text/plain": [
              "  Rk        Player Pos Age   Tm   G  GS    MP   FG   FGA  ...   FT%  ORB  DRB  \\\n",
              "0  1  Álex Abrines  SG  25  OKC  31   2  19.0  1.8   5.1  ...  .923  0.2  1.4   \n",
              "1  2    Quincy Acy  PF  28  PHO  10   0  12.3  0.4   1.8  ...  .700  0.3  2.2   \n",
              "2  3  Jaylen Adams  PG  22  ATL  34   1  12.6  1.1   3.2  ...  .778  0.3  1.4   \n",
              "3  4  Steven Adams   C  25  OKC  80  80  33.4  6.0  10.1  ...  .500  4.9  4.6   \n",
              "4  5   Bam Adebayo   C  21  MIA  82  28  23.3  3.4   5.9  ...  .735  2.0  5.3   \n",
              "\n",
              "   TRB  AST  STL  BLK  TOV   PF   PTS  \n",
              "0  1.5  0.6  0.5  0.2  0.5  1.7   5.3  \n",
              "1  2.5  0.8  0.1  0.4  0.4  2.4   1.7  \n",
              "2  1.8  1.9  0.4  0.1  0.8  1.3   3.2  \n",
              "3  9.5  1.6  1.5  1.0  1.7  2.6  13.9  \n",
              "4  7.3  2.2  0.9  0.8  1.5  2.5   8.9  \n",
              "\n",
              "[5 rows x 30 columns]"
            ]
          },
          "execution_count": 17,
          "metadata": {},
          "output_type": "execute_result"
        }
      ],
      "source": [
        "nba.head()"
      ]
    },
    {
      "cell_type": "markdown",
      "metadata": {
        "id": "xaOCZXodnvTB"
      },
      "source": [
        "### Complex example\n",
        "\n",
        "We can also use the `requests` module to get HTML code from an URL to parse it into `DataFrame` objects.\n",
        "\n",
        "If we look at the given URL we can see multiple tables about The Simpsons TV show.\n",
        "\n",
        "We want to keep the table with information about each season."
      ]
    },
    {
      "cell_type": "code",
      "execution_count": null,
      "metadata": {
        "id": "fhJMDm1dnvTC"
      },
      "outputs": [],
      "source": [
        "import requests\n",
        "\n",
        "html_url = \"https://en.wikipedia.org/wiki/The_Simpsons\""
      ]
    },
    {
      "cell_type": "code",
      "execution_count": null,
      "metadata": {
        "id": "vzMWNGaLnvTC"
      },
      "outputs": [],
      "source": [
        "r = requests.get(html_url)\n",
        "\n",
        "wiki_tables = pd.read_html(r.text, header=0)"
      ]
    },
    {
      "cell_type": "code",
      "execution_count": null,
      "metadata": {
        "id": "-Izcn9xPnvTC",
        "outputId": "f0cdc6cc-2628-41e5-c5a9-1211c501def7"
      },
      "outputs": [
        {
          "data": {
            "text/plain": [
              "27"
            ]
          },
          "execution_count": 13,
          "metadata": {},
          "output_type": "execute_result"
        }
      ],
      "source": [
        "len(wiki_tables)"
      ]
    },
    {
      "cell_type": "code",
      "execution_count": null,
      "metadata": {
        "id": "APVth-qpnvTC"
      },
      "outputs": [],
      "source": [
        "simpsons = wiki_tables[1]"
      ]
    },
    {
      "cell_type": "code",
      "execution_count": null,
      "metadata": {
        "id": "ctDdnqmenvTC",
        "outputId": "fa7a63de-3271-48a3-ae6b-a97a44488aac"
      },
      "outputs": [
        {
          "data": {
            "text/html": [
              "<div>\n",
              "<style scoped>\n",
              "    .dataframe tbody tr th:only-of-type {\n",
              "        vertical-align: middle;\n",
              "    }\n",
              "\n",
              "    .dataframe tbody tr th {\n",
              "        vertical-align: top;\n",
              "    }\n",
              "\n",
              "    .dataframe thead th {\n",
              "        text-align: right;\n",
              "    }\n",
              "</style>\n",
              "<table border=\"1\" class=\"dataframe\">\n",
              "  <thead>\n",
              "    <tr style=\"text-align: right;\">\n",
              "      <th></th>\n",
              "      <th>Season</th>\n",
              "      <th>Season.1</th>\n",
              "      <th>No. ofepisodes</th>\n",
              "      <th>Originally aired</th>\n",
              "      <th>Originally aired.1</th>\n",
              "      <th>Originally aired.2</th>\n",
              "      <th>Viewership</th>\n",
              "      <th>Viewership.1</th>\n",
              "      <th>Viewership.2</th>\n",
              "    </tr>\n",
              "  </thead>\n",
              "  <tbody>\n",
              "    <tr>\n",
              "      <th>0</th>\n",
              "      <td>Season</td>\n",
              "      <td>Season</td>\n",
              "      <td>No. ofepisodes</td>\n",
              "      <td>Season premiere</td>\n",
              "      <td>Season finale</td>\n",
              "      <td>Time Slot (ET)</td>\n",
              "      <td>Avg. viewers(in millions)</td>\n",
              "      <td>Most watched episode</td>\n",
              "      <td>Most watched episode</td>\n",
              "    </tr>\n",
              "    <tr>\n",
              "      <th>1</th>\n",
              "      <td>Season</td>\n",
              "      <td>Season</td>\n",
              "      <td>No. ofepisodes</td>\n",
              "      <td>Season premiere</td>\n",
              "      <td>Season finale</td>\n",
              "      <td>Time Slot (ET)</td>\n",
              "      <td>Avg. viewers(in millions)</td>\n",
              "      <td>Viewers(millions)</td>\n",
              "      <td>Episode Title</td>\n",
              "    </tr>\n",
              "    <tr>\n",
              "      <th>2</th>\n",
              "      <td>1</td>\n",
              "      <td>1989–90</td>\n",
              "      <td>13</td>\n",
              "      <td>December 17, 1989</td>\n",
              "      <td>May 13, 1990</td>\n",
              "      <td>Sunday 8:30 PM</td>\n",
              "      <td>27.8</td>\n",
              "      <td>33.5</td>\n",
              "      <td>\"Life on the Fast Lane\"</td>\n",
              "    </tr>\n",
              "    <tr>\n",
              "      <th>3</th>\n",
              "      <td>2</td>\n",
              "      <td>1990–91</td>\n",
              "      <td>22</td>\n",
              "      <td>October 11, 1990</td>\n",
              "      <td>July 11, 1991</td>\n",
              "      <td>Thursday 8:00 PM</td>\n",
              "      <td>24.4</td>\n",
              "      <td>33.6</td>\n",
              "      <td>\"Bart Gets an F\"</td>\n",
              "    </tr>\n",
              "    <tr>\n",
              "      <th>4</th>\n",
              "      <td>3</td>\n",
              "      <td>1991–92</td>\n",
              "      <td>24</td>\n",
              "      <td>September 19, 1991</td>\n",
              "      <td>August 27, 1992</td>\n",
              "      <td>Thursday 8:00 PM</td>\n",
              "      <td>21.8</td>\n",
              "      <td>25.5</td>\n",
              "      <td>\"Colonel Homer\"</td>\n",
              "    </tr>\n",
              "  </tbody>\n",
              "</table>\n",
              "</div>"
            ],
            "text/plain": [
              "   Season Season.1  No. ofepisodes    Originally aired Originally aired.1  \\\n",
              "0  Season   Season  No. ofepisodes     Season premiere      Season finale   \n",
              "1  Season   Season  No. ofepisodes     Season premiere      Season finale   \n",
              "2       1  1989–90              13   December 17, 1989       May 13, 1990   \n",
              "3       2  1990–91              22    October 11, 1990      July 11, 1991   \n",
              "4       3  1991–92              24  September 19, 1991    August 27, 1992   \n",
              "\n",
              "  Originally aired.2                 Viewership          Viewership.1  \\\n",
              "0     Time Slot (ET)  Avg. viewers(in millions)  Most watched episode   \n",
              "1     Time Slot (ET)  Avg. viewers(in millions)     Viewers(millions)   \n",
              "2     Sunday 8:30 PM                       27.8                  33.5   \n",
              "3   Thursday 8:00 PM                       24.4                  33.6   \n",
              "4   Thursday 8:00 PM                       21.8                  25.5   \n",
              "\n",
              "              Viewership.2  \n",
              "0     Most watched episode  \n",
              "1            Episode Title  \n",
              "2  \"Life on the Fast Lane\"  \n",
              "3         \"Bart Gets an F\"  \n",
              "4          \"Colonel Homer\"  "
            ]
          },
          "execution_count": 15,
          "metadata": {},
          "output_type": "execute_result"
        }
      ],
      "source": [
        "simpsons.head()"
      ]
    },
    {
      "cell_type": "markdown",
      "metadata": {
        "id": "7k5TqmudnvTC"
      },
      "source": [
        "Quick clean on the table: remove extra header rows and set `Season` as index."
      ]
    },
    {
      "cell_type": "code",
      "execution_count": null,
      "metadata": {
        "id": "kXEB8G4gnvTD"
      },
      "outputs": [],
      "source": [
        "simpsons.drop([0, 1], inplace=True)"
      ]
    },
    {
      "cell_type": "code",
      "execution_count": null,
      "metadata": {
        "id": "62jjhg5KnvTD"
      },
      "outputs": [],
      "source": [
        "simpsons.set_index('Season', inplace=True)"
      ]
    },
    {
      "cell_type": "markdown",
      "metadata": {
        "id": "WH_5CBN-nvTD"
      },
      "source": [
        "Which season has the lowest number of episodes?"
      ]
    },
    {
      "cell_type": "code",
      "execution_count": null,
      "metadata": {
        "id": "XXlP37QVnvTD",
        "outputId": "a388451c-b491-4c67-d096-751899ff7392"
      },
      "outputs": [
        {
          "data": {
            "text/plain": [
              "array(['13', '22', '24', '25', '23', '21', '20', 'TBA'], dtype=object)"
            ]
          },
          "execution_count": 18,
          "metadata": {},
          "output_type": "execute_result"
        }
      ],
      "source": [
        "simpsons['No. ofepisodes'].unique()"
      ]
    },
    {
      "cell_type": "code",
      "execution_count": null,
      "metadata": {
        "id": "5JzQWrsWnvTD"
      },
      "outputs": [],
      "source": [
        "simpsons = simpsons.loc[simpsons['No. ofepisodes'] != 'TBA']"
      ]
    },
    {
      "cell_type": "code",
      "execution_count": null,
      "metadata": {
        "id": "owNW-sHpnvTI",
        "outputId": "e0195c4c-5ec3-4d50-d908-a11a5ddd58d4"
      },
      "outputs": [
        {
          "data": {
            "text/plain": [
              "'13'"
            ]
          },
          "execution_count": 19,
          "metadata": {},
          "output_type": "execute_result"
        }
      ],
      "source": [
        "min_season = simpsons['No. ofepisodes'].min()\n",
        "\n",
        "min_season"
      ]
    },
    {
      "cell_type": "code",
      "execution_count": null,
      "metadata": {
        "id": "dqQ7-p9FnvTI",
        "outputId": "024dca21-9a3b-452f-dada-be4b6c3f147b"
      },
      "outputs": [
        {
          "data": {
            "text/html": [
              "<div>\n",
              "<style scoped>\n",
              "    .dataframe tbody tr th:only-of-type {\n",
              "        vertical-align: middle;\n",
              "    }\n",
              "\n",
              "    .dataframe tbody tr th {\n",
              "        vertical-align: top;\n",
              "    }\n",
              "\n",
              "    .dataframe thead th {\n",
              "        text-align: right;\n",
              "    }\n",
              "</style>\n",
              "<table border=\"1\" class=\"dataframe\">\n",
              "  <thead>\n",
              "    <tr style=\"text-align: right;\">\n",
              "      <th></th>\n",
              "      <th>Season.1</th>\n",
              "      <th>No. ofepisodes</th>\n",
              "      <th>Originally aired</th>\n",
              "      <th>Originally aired.1</th>\n",
              "      <th>Originally aired.2</th>\n",
              "      <th>Viewership</th>\n",
              "      <th>Viewership.1</th>\n",
              "      <th>Viewership.2</th>\n",
              "    </tr>\n",
              "    <tr>\n",
              "      <th>Season</th>\n",
              "      <th></th>\n",
              "      <th></th>\n",
              "      <th></th>\n",
              "      <th></th>\n",
              "      <th></th>\n",
              "      <th></th>\n",
              "      <th></th>\n",
              "      <th></th>\n",
              "    </tr>\n",
              "  </thead>\n",
              "  <tbody>\n",
              "    <tr>\n",
              "      <th>1</th>\n",
              "      <td>1989–90</td>\n",
              "      <td>13</td>\n",
              "      <td>December 17, 1989</td>\n",
              "      <td>May 13, 1990</td>\n",
              "      <td>Sunday 8:30 PM</td>\n",
              "      <td>27.8</td>\n",
              "      <td>33.5</td>\n",
              "      <td>\"Life on the Fast Lane\"</td>\n",
              "    </tr>\n",
              "  </tbody>\n",
              "</table>\n",
              "</div>"
            ],
            "text/plain": [
              "       Season.1 No. ofepisodes   Originally aired Originally aired.1  \\\n",
              "Season                                                                 \n",
              "1       1989–90             13  December 17, 1989       May 13, 1990   \n",
              "\n",
              "       Originally aired.2 Viewership Viewership.1             Viewership.2  \n",
              "Season                                                                      \n",
              "1          Sunday 8:30 PM       27.8         33.5  \"Life on the Fast Lane\"  "
            ]
          },
          "execution_count": 29,
          "metadata": {},
          "output_type": "execute_result"
        }
      ],
      "source": [
        "simpsons.loc[simpsons['No. ofepisodes'] == min_season]"
      ]
    },
    {
      "cell_type": "markdown",
      "metadata": {
        "id": "pr4iWW4JnvTI"
      },
      "source": [
        "![green-divider](https://user-images.githubusercontent.com/7065401/52071924-c003ad80-2562-11e9-8297-1c6595f8a7ff.png)\n",
        "\n",
        "## Save to CSV file\n",
        "\n",
        "Finally save the `DataFrame` to a CSV file as we saw on previous lectures."
      ]
    },
    {
      "cell_type": "code",
      "execution_count": null,
      "metadata": {
        "id": "3fcc0sMznvTJ",
        "outputId": "a0a2da5a-592d-4045-d21d-23c0469ceb52"
      },
      "outputs": [
        {
          "data": {
            "text/html": [
              "<div>\n",
              "<style scoped>\n",
              "    .dataframe tbody tr th:only-of-type {\n",
              "        vertical-align: middle;\n",
              "    }\n",
              "\n",
              "    .dataframe tbody tr th {\n",
              "        vertical-align: top;\n",
              "    }\n",
              "\n",
              "    .dataframe thead th {\n",
              "        text-align: right;\n",
              "    }\n",
              "</style>\n",
              "<table border=\"1\" class=\"dataframe\">\n",
              "  <thead>\n",
              "    <tr style=\"text-align: right;\">\n",
              "      <th></th>\n",
              "      <th>Season.1</th>\n",
              "      <th>No. ofepisodes</th>\n",
              "      <th>Originally aired</th>\n",
              "      <th>Originally aired.1</th>\n",
              "      <th>Originally aired.2</th>\n",
              "      <th>Viewership</th>\n",
              "      <th>Viewership.1</th>\n",
              "      <th>Viewership.2</th>\n",
              "    </tr>\n",
              "    <tr>\n",
              "      <th>Season</th>\n",
              "      <th></th>\n",
              "      <th></th>\n",
              "      <th></th>\n",
              "      <th></th>\n",
              "      <th></th>\n",
              "      <th></th>\n",
              "      <th></th>\n",
              "      <th></th>\n",
              "    </tr>\n",
              "  </thead>\n",
              "  <tbody>\n",
              "    <tr>\n",
              "      <th>1</th>\n",
              "      <td>1989–90</td>\n",
              "      <td>13</td>\n",
              "      <td>December 17, 1989</td>\n",
              "      <td>May 13, 1990</td>\n",
              "      <td>Sunday 8:30 PM</td>\n",
              "      <td>27.8</td>\n",
              "      <td>33.5</td>\n",
              "      <td>\"Life on the Fast Lane\"</td>\n",
              "    </tr>\n",
              "    <tr>\n",
              "      <th>2</th>\n",
              "      <td>1990–91</td>\n",
              "      <td>22</td>\n",
              "      <td>October 11, 1990</td>\n",
              "      <td>July 11, 1991</td>\n",
              "      <td>Thursday 8:00 PM</td>\n",
              "      <td>24.4</td>\n",
              "      <td>33.6</td>\n",
              "      <td>\"Bart Gets an F\"</td>\n",
              "    </tr>\n",
              "    <tr>\n",
              "      <th>3</th>\n",
              "      <td>1991–92</td>\n",
              "      <td>24</td>\n",
              "      <td>September 19, 1991</td>\n",
              "      <td>August 27, 1992</td>\n",
              "      <td>Thursday 8:00 PM</td>\n",
              "      <td>21.8</td>\n",
              "      <td>25.5</td>\n",
              "      <td>\"Colonel Homer\"</td>\n",
              "    </tr>\n",
              "    <tr>\n",
              "      <th>4</th>\n",
              "      <td>1992–93</td>\n",
              "      <td>22</td>\n",
              "      <td>September 24, 1992</td>\n",
              "      <td>May 13, 1993</td>\n",
              "      <td>Thursday 8:00 PM</td>\n",
              "      <td>22.4</td>\n",
              "      <td>28.6</td>\n",
              "      <td>\"Lisa's First Word\"</td>\n",
              "    </tr>\n",
              "    <tr>\n",
              "      <th>5</th>\n",
              "      <td>1993–94</td>\n",
              "      <td>22</td>\n",
              "      <td>September 30, 1993</td>\n",
              "      <td>May 19, 1994</td>\n",
              "      <td>Thursday 8:00 PM</td>\n",
              "      <td>18.9</td>\n",
              "      <td>24.0</td>\n",
              "      <td>\"Treehouse of Horror IV\"</td>\n",
              "    </tr>\n",
              "  </tbody>\n",
              "</table>\n",
              "</div>"
            ],
            "text/plain": [
              "       Season.1 No. ofepisodes    Originally aired Originally aired.1  \\\n",
              "Season                                                                  \n",
              "1       1989–90             13   December 17, 1989       May 13, 1990   \n",
              "2       1990–91             22    October 11, 1990      July 11, 1991   \n",
              "3       1991–92             24  September 19, 1991    August 27, 1992   \n",
              "4       1992–93             22  September 24, 1992       May 13, 1993   \n",
              "5       1993–94             22  September 30, 1993       May 19, 1994   \n",
              "\n",
              "       Originally aired.2 Viewership Viewership.1              Viewership.2  \n",
              "Season                                                                       \n",
              "1          Sunday 8:30 PM       27.8         33.5   \"Life on the Fast Lane\"  \n",
              "2        Thursday 8:00 PM       24.4         33.6          \"Bart Gets an F\"  \n",
              "3        Thursday 8:00 PM       21.8         25.5           \"Colonel Homer\"  \n",
              "4        Thursday 8:00 PM       22.4         28.6       \"Lisa's First Word\"  \n",
              "5        Thursday 8:00 PM       18.9         24.0  \"Treehouse of Horror IV\"  "
            ]
          },
          "execution_count": 30,
          "metadata": {},
          "output_type": "execute_result"
        }
      ],
      "source": [
        "simpsons.head()"
      ]
    },
    {
      "cell_type": "code",
      "execution_count": null,
      "metadata": {
        "id": "XgSQC3cKnvTJ"
      },
      "outputs": [],
      "source": [
        "simpsons.to_csv('out.csv')"
      ]
    },
    {
      "cell_type": "code",
      "execution_count": null,
      "metadata": {
        "scrolled": false,
        "id": "cf3m1SotnvTJ",
        "outputId": "166ac7c1-e9c6-4fd6-8b59-248bb3d215e7"
      },
      "outputs": [
        {
          "data": {
            "text/html": [
              "<div>\n",
              "<style scoped>\n",
              "    .dataframe tbody tr th:only-of-type {\n",
              "        vertical-align: middle;\n",
              "    }\n",
              "\n",
              "    .dataframe tbody tr th {\n",
              "        vertical-align: top;\n",
              "    }\n",
              "\n",
              "    .dataframe thead th {\n",
              "        text-align: right;\n",
              "    }\n",
              "</style>\n",
              "<table border=\"1\" class=\"dataframe\">\n",
              "  <thead>\n",
              "    <tr style=\"text-align: right;\">\n",
              "      <th></th>\n",
              "      <th>Season.1</th>\n",
              "      <th>No. ofepisodes</th>\n",
              "      <th>Originally aired</th>\n",
              "      <th>Originally aired.1</th>\n",
              "      <th>Originally aired.2</th>\n",
              "      <th>Viewership</th>\n",
              "      <th>Viewership.1</th>\n",
              "      <th>Viewership.2</th>\n",
              "    </tr>\n",
              "    <tr>\n",
              "      <th>Season</th>\n",
              "      <th></th>\n",
              "      <th></th>\n",
              "      <th></th>\n",
              "      <th></th>\n",
              "      <th></th>\n",
              "      <th></th>\n",
              "      <th></th>\n",
              "      <th></th>\n",
              "    </tr>\n",
              "  </thead>\n",
              "  <tbody>\n",
              "    <tr>\n",
              "      <th>1</th>\n",
              "      <td>1989–90</td>\n",
              "      <td>13</td>\n",
              "      <td>December 17, 1989</td>\n",
              "      <td>May 13, 1990</td>\n",
              "      <td>Sunday 8:30 PM</td>\n",
              "      <td>27.8</td>\n",
              "      <td>33.5</td>\n",
              "      <td>\"Life on the Fast Lane\"</td>\n",
              "    </tr>\n",
              "    <tr>\n",
              "      <th>2</th>\n",
              "      <td>1990–91</td>\n",
              "      <td>22</td>\n",
              "      <td>October 11, 1990</td>\n",
              "      <td>July 11, 1991</td>\n",
              "      <td>Thursday 8:00 PM</td>\n",
              "      <td>24.4</td>\n",
              "      <td>33.6</td>\n",
              "      <td>\"Bart Gets an F\"</td>\n",
              "    </tr>\n",
              "    <tr>\n",
              "      <th>3</th>\n",
              "      <td>1991–92</td>\n",
              "      <td>24</td>\n",
              "      <td>September 19, 1991</td>\n",
              "      <td>August 27, 1992</td>\n",
              "      <td>Thursday 8:00 PM</td>\n",
              "      <td>21.8</td>\n",
              "      <td>25.5</td>\n",
              "      <td>\"Colonel Homer\"</td>\n",
              "    </tr>\n",
              "    <tr>\n",
              "      <th>4</th>\n",
              "      <td>1992–93</td>\n",
              "      <td>22</td>\n",
              "      <td>September 24, 1992</td>\n",
              "      <td>May 13, 1993</td>\n",
              "      <td>Thursday 8:00 PM</td>\n",
              "      <td>22.4</td>\n",
              "      <td>28.6</td>\n",
              "      <td>\"Lisa's First Word\"</td>\n",
              "    </tr>\n",
              "    <tr>\n",
              "      <th>5</th>\n",
              "      <td>1993–94</td>\n",
              "      <td>22</td>\n",
              "      <td>September 30, 1993</td>\n",
              "      <td>May 19, 1994</td>\n",
              "      <td>Thursday 8:00 PM</td>\n",
              "      <td>18.9</td>\n",
              "      <td>24.0</td>\n",
              "      <td>\"Treehouse of Horror IV\"</td>\n",
              "    </tr>\n",
              "  </tbody>\n",
              "</table>\n",
              "</div>"
            ],
            "text/plain": [
              "       Season.1  No. ofepisodes    Originally aired Originally aired.1  \\\n",
              "Season                                                                   \n",
              "1       1989–90              13   December 17, 1989       May 13, 1990   \n",
              "2       1990–91              22    October 11, 1990      July 11, 1991   \n",
              "3       1991–92              24  September 19, 1991    August 27, 1992   \n",
              "4       1992–93              22  September 24, 1992       May 13, 1993   \n",
              "5       1993–94              22  September 30, 1993       May 19, 1994   \n",
              "\n",
              "       Originally aired.2 Viewership  Viewership.1              Viewership.2  \n",
              "Season                                                                        \n",
              "1          Sunday 8:30 PM       27.8          33.5   \"Life on the Fast Lane\"  \n",
              "2        Thursday 8:00 PM       24.4          33.6          \"Bart Gets an F\"  \n",
              "3        Thursday 8:00 PM       21.8          25.5           \"Colonel Homer\"  \n",
              "4        Thursday 8:00 PM       22.4          28.6       \"Lisa's First Word\"  \n",
              "5        Thursday 8:00 PM       18.9          24.0  \"Treehouse of Horror IV\"  "
            ]
          },
          "execution_count": 32,
          "metadata": {},
          "output_type": "execute_result"
        }
      ],
      "source": [
        "pd.read_csv('out.csv', index_col='Season').head()"
      ]
    },
    {
      "cell_type": "markdown",
      "metadata": {
        "id": "6tWOqqaAnvTJ"
      },
      "source": [
        "![purple-divider](https://user-images.githubusercontent.com/7065401/52071927-c1cd7100-2562-11e9-908a-dde91ba14e59.png)"
      ]
    }
  ],
  "metadata": {
    "kernelspec": {
      "display_name": "Python 3",
      "language": "python",
      "name": "python3"
    },
    "language_info": {
      "codemirror_mode": {
        "name": "ipython",
        "version": 3
      },
      "file_extension": ".py",
      "mimetype": "text/x-python",
      "name": "python",
      "nbconvert_exporter": "python",
      "pygments_lexer": "ipython3",
      "version": "3.6.8"
    },
    "colab": {
      "provenance": []
    }
  },
  "nbformat": 4,
  "nbformat_minor": 0
}